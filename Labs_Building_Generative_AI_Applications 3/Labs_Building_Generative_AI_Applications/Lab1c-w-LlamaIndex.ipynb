{
 "cells": [
  {
   "cell_type": "markdown",
   "id": "af3f88dd-0f5e-427e-84ee-8934982300d1",
   "metadata": {
    "tags": []
   },
   "source": [
    "# Bedrock with LlamaIndex"
   ]
  },
  {
   "cell_type": "markdown",
   "id": "be11fde4-4cd9-4040-bb3e-b3756c1cd2af",
   "metadata": {},
   "source": [
    "## Setup"
   ]
  },
  {
   "cell_type": "markdown",
   "id": "f89ec4d6-a422-485d-b959-504cf982c7d6",
   "metadata": {
    "tags": []
   },
   "source": [
    "```python\n",
    "%pip install llama-index-llms-bedrock\n",
    "!pip install llama-index\n",
    "```"
   ]
  },
  {
   "cell_type": "code",
   "execution_count": 1,
   "id": "2afd2039-014d-4b86-907c-e7baf81f6c8d",
   "metadata": {
    "tags": []
   },
   "outputs": [],
   "source": [
    "%load_ext autoreload\n",
    "%autoreload 2"
   ]
  },
  {
   "cell_type": "code",
   "execution_count": 2,
   "id": "558a9372-0789-414a-a1d7-2976056f2015",
   "metadata": {
    "tags": []
   },
   "outputs": [],
   "source": [
    "import json\n",
    "import os\n",
    "import sys\n",
    "import boto3\n",
    "import botocore\n",
    "from llama_index.llms.bedrock import Bedrock\n",
    "import ipywidgets as widgets\n",
    "\n",
    "module_path = \"..\"\n",
    "sys.path.append(os.path.abspath(module_path))\n",
    "from labutils import bedrock, model_formatter, tools\n",
    "\n",
    "profile_name = \"genaidev\""
   ]
  },
  {
   "cell_type": "code",
   "execution_count": 3,
   "id": "0d196531-2110-45a0-b6c4-75e5d362bf25",
   "metadata": {
    "tags": []
   },
   "outputs": [
    {
     "name": "stdout",
     "output_type": "stream",
     "text": [
      "Create new client\n",
      "  Using region: None\n",
      "  Using profile: genaidev\n",
      "boto3 Bedrock client successfully created!\n",
      "bedrock-runtime(https://bedrock-runtime.us-east-1.amazonaws.com)\n",
      "Create new client\n",
      "  Using region: None\n",
      "  Using profile: genaidev\n",
      "boto3 Bedrock client successfully created!\n",
      "bedrock(https://bedrock.us-east-1.amazonaws.com)\n"
     ]
    }
   ],
   "source": [
    "_, bedrock_control_client = bedrock.get_bedrock_clients()"
   ]
  },
  {
   "cell_type": "markdown",
   "id": "d5b77e2f-fb04-4cf0-9b53-a1b1fb8e5104",
   "metadata": {},
   "source": [
    "## Let's use 'complete' with one single prompt"
   ]
  },
  {
   "cell_type": "code",
   "execution_count": 4,
   "id": "7b60fb2e-d7ab-4696-aa1b-7021887aca78",
   "metadata": {
    "tags": []
   },
   "outputs": [],
   "source": [
    "user_input = \"\"\"\n",
    "            Write an email from Bob, Customer Service Manager, to the customer \"John Doe\" \n",
    "            who provided negative feedback on the service provided by our customer support \n",
    "            engineer\"\"\""
   ]
  },
  {
   "cell_type": "code",
   "execution_count": 5,
   "id": "a04b992b-35b0-44c2-b44d-24eec3ee8fb4",
   "metadata": {},
   "outputs": [
    {
     "data": {
      "application/vnd.jupyter.widget-view+json": {
       "model_id": "625dfd01239c446f817b8456891453c5",
       "version_major": 2,
       "version_minor": 0
      },
      "text/plain": [
       "Dropdown(description='Select LLM:', layout=Layout(width='300px'), options={'Claude': 'anthropic.claude-v2:1', …"
      ]
     },
     "metadata": {},
     "output_type": "display_data"
    }
   ],
   "source": [
    "dropdown = tools.model_selection(bedrock_control_client)\n",
    "display(dropdown)"
   ]
  },
  {
   "cell_type": "code",
   "execution_count": 10,
   "id": "fc4da51b-c8cc-4f1c-b0b3-21718b90aefa",
   "metadata": {},
   "outputs": [],
   "source": [
    "# modelID = 'mistral.mistral-small-2402-v1:0'"
   ]
  },
  {
   "cell_type": "code",
   "execution_count": 14,
   "id": "0c452f5f-8dfc-4da5-80f2-c87d645569e7",
   "metadata": {
    "tags": []
   },
   "outputs": [],
   "source": [
    "response = Bedrock(\n",
    "        model=dropdown.value,\n",
    "        profile_name = profile_name).complete(user_input)"
   ]
  },
  {
   "cell_type": "code",
   "execution_count": 15,
   "id": "8805e35d-0851-41a0-9c70-6385b87d4dc7",
   "metadata": {
    "tags": []
   },
   "outputs": [
    {
     "name": "stdout",
     "output_type": "stream",
     "text": [
      "Here is a sample email from Bob, the Customer Service Manager, to the customer \"John Doe\" who provided negative feedback on the service provided by the customer support engineer:\n",
      "\n",
      "Subject: Addressing Your Feedback - Customer Service Improvement\n",
      "\n",
      "Dear John Doe,\n",
      "\n",
      "Thank you for taking the time to provide feedback on the service you received from our customer support team. I understand that your experience was not up to the high standards we strive for, and I appreciate you bringing this to our attention.\n",
      "\n",
      "As the Customer Service Manager, I take all feedback seriously, as it helps us identify areas for improvement and ensure we are delivering the best possible experience for our customers. Please accept my sincere apologies for the inconvenience you faced.\n",
      "\n",
      "I have reviewed the details of your interaction, and I would like to assure you that we are taking immediate steps to address the issues you encountered. Our customer support engineer has been counseled, and we will be providing additional training to ensure they are better equipped to handle similar situations in the future.\n",
      "\n",
      "Additionally, to make up for the poor service you received, I would like to offer you a [insert appropriate compensation, such as a discount, credit, or free product/service]. Please let me know if this would be acceptable, and I will be happy to make the necessary arrangements.\n",
      "\n",
      "We value your business and your feedback, as it helps us continuously improve our services. If there is anything else I can do to address your concerns, please do not hesitate to reach out to me directly.\n",
      "\n",
      "Thank you for your understanding, and I look forward to the opportunity to provide you with a better experience in the future.\n",
      "\n",
      "Best regards,\n",
      "Bob\n",
      "Customer Service Manager\n",
      "[Company Name]\n",
      "[Contact Information]\n"
     ]
    }
   ],
   "source": [
    "print(response)"
   ]
  },
  {
   "cell_type": "markdown",
   "id": "e0088c00-ef1e-48b7-9c0e-050a48bdc056",
   "metadata": {
    "tags": []
   },
   "source": [
    "## Let's use 'chat' with one roles and system information"
   ]
  },
  {
   "cell_type": "code",
   "execution_count": 16,
   "id": "02da7085-11a8-4653-af1a-13645af4eaef",
   "metadata": {
    "tags": []
   },
   "outputs": [],
   "source": [
    "from llama_index.core.llms import ChatMessage\n",
    "from llama_index.llms.bedrock import Bedrock"
   ]
  },
  {
   "cell_type": "code",
   "execution_count": 17,
   "id": "ff42df6a-c991-4f32-b235-16c11b4c0382",
   "metadata": {
    "tags": []
   },
   "outputs": [],
   "source": [
    "system = \"You are a customer service manager.\"\n",
    "user_input = \"\"\"Create an apology email from the Service Manager Bob to John Doe in \n",
    "                response to the following feedback that was received from the customer:\n",
    "                \\n\\nHello Bob,\\nI am very disappointed with the recent experience I had \n",
    "                when I called your customer support.\\nI was expecting an immediate call \n",
    "                back but it took three days for us to get a call back.\\nThe first suggestion \n",
    "                to fix the problem was incorrect. Ultimately the problem was fixed after \n",
    "                three days.\\nWe are very unhappy with the response provided and may consider \n",
    "                taking our business elsewhere.\"\"\""
   ]
  },
  {
   "cell_type": "code",
   "execution_count": 18,
   "id": "6be19f13-239b-45f5-b483-ffc328ebcb92",
   "metadata": {
    "tags": []
   },
   "outputs": [
    {
     "data": {
      "application/vnd.jupyter.widget-view+json": {
       "model_id": "b6347b0b56e54f08909b984f85ca2248",
       "version_major": 2,
       "version_minor": 0
      },
      "text/plain": [
       "Dropdown(description='Select LLM:', layout=Layout(width='300px'), options={'Claude': 'anthropic.claude-v2:1', …"
      ]
     },
     "metadata": {},
     "output_type": "display_data"
    }
   ],
   "source": [
    "dropdown = tools.model_selection(bedrock_control_client)\n",
    "display(dropdown)"
   ]
  },
  {
   "cell_type": "code",
   "execution_count": 19,
   "id": "1bf5b9a5-4f65-41f3-9a78-a3bfd4af42e4",
   "metadata": {
    "tags": []
   },
   "outputs": [],
   "source": [
    "messages = [\n",
    "    ChatMessage(\n",
    "        role=\"system\", content = system\n",
    "    ),\n",
    "    ChatMessage(role=\"user\", content = user_input),\n",
    "]\n",
    "\n",
    "response = Bedrock(\n",
    "    model=dropdown.value, profile_name=profile_name).chat(messages)"
   ]
  },
  {
   "cell_type": "code",
   "execution_count": 20,
   "id": "da5b473f-91e3-49e9-8141-6ee77b9ba353",
   "metadata": {
    "tags": []
   },
   "outputs": [
    {
     "name": "stdout",
     "output_type": "stream",
     "text": [
      "assistant: Here is a draft of the apology email from Service Manager Bob to John Doe:\n",
      "\n",
      "Subject: Apology for Unsatisfactory Customer Service Experience\n",
      "\n",
      "Dear John Doe,\n",
      "\n",
      "I am writing to express my sincere apologies for the poor customer service experience you recently had when contacting our support team. I understand your frustration with the delayed response time, the incorrect initial suggestion, and the overall unsatisfactory resolution to your issue.\n",
      "\n",
      "As the Service Manager, I take full responsibility for this unacceptable level of service. Your satisfaction is of the utmost importance to us, and we clearly fell short of meeting your expectations on this occasion. Please know that this is not the standard of service we strive to provide, and I am committed to addressing the issues that led to this situation.\n",
      "\n",
      "I have thoroughly reviewed your case and spoken with the team to understand what went wrong. We have identified areas for improvement in our response protocols and staff training to ensure this does not happen again. I have also personally followed up with the team members involved to ensure they understand the importance of providing prompt, accurate, and helpful support to all our customers.\n",
      "\n",
      "I hope you will give us another opportunity to serve you and demonstrate our commitment to delivering an exceptional customer experience. Please let me know if there is anything else I can do to regain your trust and confidence in our company.\n",
      "\n",
      "Sincerely,\n",
      "Bob\n",
      "Service Manager\n",
      "[Company Name]\n"
     ]
    }
   ],
   "source": [
    "print(response)"
   ]
  },
  {
   "cell_type": "markdown",
   "id": "ac7f6033-2d75-47a9-820e-cd888161bffa",
   "metadata": {
    "tags": []
   },
   "source": [
    "### Let's modify the instructions!"
   ]
  },
  {
   "cell_type": "code",
   "execution_count": 22,
   "id": "ec04a2a1-d6f5-4fe4-8579-af6b1877a2d8",
   "metadata": {
    "tags": []
   },
   "outputs": [
    {
     "name": "stdout",
     "output_type": "stream",
     "text": [
      "assistant: Subject: Sincere Apologies for the Inconvenience\n",
      "\n",
      "Dear John Doe,\n",
      "\n",
      "I am writing to express my deepest apologies for the unsatisfactory experience you had with our customer support. As the Service Manager, I take full responsibility for the poor service you received, and I assure you that this is not the level of quality we strive for.\n",
      "\n",
      "I understand your frustration with the delayed response and the initial incorrect suggestion to fix the problem. This is unacceptable, and I can assure you that we have taken immediate steps to address these issues.\n",
      "\n",
      "Please accept my sincere apologies for the inconvenience and disruption this has caused you and your business. I understand the importance of timely and effective customer support, and I can assure you that we are committed to improving our processes to ensure that this does not happen again.\n",
      "\n",
      "As a gesture of goodwill, I would like to offer you a 20% discount on your next service or repair. This is a small token of our appreciation for your continued business and patience.\n",
      "\n",
      "I am committed to ensuring that your future interactions with our company are of the highest quality. Please do not hesitate to reach out to me directly if you have any further concerns or feedback.\n",
      "\n",
      "Sincerely,\n",
      "\n",
      "Bob\n",
      "Service Manager\n",
      "XYZ Company\n",
      "bob@xyzcompany.com\n",
      "555-555-5555\n"
     ]
    }
   ],
   "source": [
    "system = \"You are a pirate with a colorful personality.\"\n",
    "\n",
    "messages = [\n",
    "    ChatMessage(\n",
    "        role=\"system\", content = system\n",
    "    ),\n",
    "    ChatMessage(role=\"user\", content = user_input),\n",
    "]\n",
    "\n",
    "response = Bedrock(\n",
    "    model=dropdown.value, profile_name=profile_name).chat(messages)\n",
    "\n",
    "print(response)"
   ]
  },
  {
   "cell_type": "markdown",
   "id": "10c7e52e-4a03-4267-a5a5-40e41c1a2c6c",
   "metadata": {},
   "source": [
    "## Let's use streaming with 'stream_complete'"
   ]
  },
  {
   "cell_type": "code",
   "execution_count": 23,
   "id": "85c941ee-c423-40b7-ba81-29b9f3a27b34",
   "metadata": {
    "tags": []
   },
   "outputs": [
    {
     "name": "stdout",
     "output_type": "stream",
     "text": [
      "Subject: Apology for Unsatisfactory Customer Service\n",
      "\n",
      "Dear John Doe,\n",
      "\n",
      "I am writing to express my sincere apologies for the unsatisfactory experience you had with our customer support. I understand your frustration with the delayed response and the initial incorrect suggestion to fix the problem.\n",
      "\n",
      "As the Service Manager, I take full responsibility for this incident and the failure to meet your expectations. Your feedback is invaluable, and it will help us identify areas for improvement in our customer service processes.\n",
      "\n",
      "Please accept my sincere apologies for the inconvenience and frustration you experienced. I assure you that we are committed to providing our customers with the highest level of service and support. We value your business and hope to have the opportunity to serve you better in the future.\n",
      "\n",
      "If there is anything else I can do to address your concerns, please do not hesitate to let me know. I am available to discuss this matter further and work towards a resolution that meets your satisfaction.\n",
      "\n",
      "Again, I apologize for the poor experience and appreciate your understanding.\n",
      "\n",
      "Sincerely,\n",
      "\n",
      "Bob\n",
      "Service Manager\n",
      "[Company Name]"
     ]
    }
   ],
   "source": [
    "from llama_index.llms.bedrock import Bedrock\n",
    "\n",
    "llm = Bedrock(model = dropdown.value, profile_name = profile_name)\n",
    "response = llm.stream_complete(user_input)\n",
    "\n",
    "for r in response:\n",
    "    print(r.delta, end=\"\")"
   ]
  },
  {
   "cell_type": "markdown",
   "id": "7005c924-4fda-41b3-b971-20d9753032d7",
   "metadata": {
    "tags": []
   },
   "source": [
    "## Let's use streaming with 'stream_chat'"
   ]
  },
  {
   "cell_type": "code",
   "execution_count": 24,
   "id": "4fad14c2-9e12-401e-b66e-0649681b4297",
   "metadata": {
    "tags": []
   },
   "outputs": [
    {
     "name": "stdout",
     "output_type": "stream",
     "text": [
      "Here is a draft of the apology email from Service Manager Bob to John Doe:\n",
      "\n",
      "Subject: Apology for Unsatisfactory Customer Service Experience\n",
      "\n",
      "Dear John Doe,\n",
      "\n",
      "I am writing to express my sincere apologies for the poor customer service experience you recently had when contacting our support team. I understand your frustration with the delayed response time, the incorrect initial suggestion, and the overall unsatisfactory resolution to your issue.\n",
      "\n",
      "As the Service Manager, I take full responsibility for this unacceptable level of service. Your satisfaction is of the utmost importance to us, and we clearly fell short of meeting your expectations on this occasion. Please know that this is not the standard of service we strive to provide, and I am committed to addressing the issues that led to this situation.\n",
      "\n",
      "I have thoroughly reviewed your case and spoken with the team to understand what went wrong. We have identified areas for improvement in our response protocols and staff training to ensure this does not happen again. I have also personally followed up with the team members involved to address the specific issues that occurred.\n",
      "\n",
      "I understand that this experience may have shaken your confidence in our ability to properly support your business. I want to assure you that we are dedicated to regaining your trust. To that end, I would like to offer you a credit of [X] towards your next month's invoice as a gesture of goodwill.\n",
      "\n",
      "Please let me know if there is anything else I can do to make this right. I am available to discuss this further and address any other concerns you may have. We value your business highly, and I am committed to providing you with the exceptional service you deserve going forward.\n",
      "\n",
      "Sincerely,\n",
      "Bob\n",
      "Service Manager\n",
      "[Company Name]"
     ]
    }
   ],
   "source": [
    "from llama_index.llms.bedrock import Bedrock\n",
    "\n",
    "system = \"You are a customer service manager.\"\n",
    "messages = [\n",
    "    ChatMessage(\n",
    "        role=\"system\", content = system\n",
    "    ),\n",
    "    ChatMessage(role=\"user\", content = user_input),\n",
    "]\n",
    "\n",
    "llm = Bedrock(model=dropdown.value, profile_name=profile_name)\n",
    "resp = llm.stream_chat(messages)\n",
    "\n",
    "for r in resp:\n",
    "    print(r.delta, end=\"\")"
   ]
  },
  {
   "cell_type": "code",
   "execution_count": null,
   "id": "7d9596c7-ee20-478a-9a75-014607da09b5",
   "metadata": {},
   "outputs": [],
   "source": []
  }
 ],
 "metadata": {
  "availableInstances": [
   {
    "_defaultOrder": 0,
    "_isFastLaunch": true,
    "category": "General purpose",
    "gpuNum": 0,
    "hideHardwareSpecs": false,
    "memoryGiB": 4,
    "name": "ml.t3.medium",
    "vcpuNum": 2
   },
   {
    "_defaultOrder": 1,
    "_isFastLaunch": false,
    "category": "General purpose",
    "gpuNum": 0,
    "hideHardwareSpecs": false,
    "memoryGiB": 8,
    "name": "ml.t3.large",
    "vcpuNum": 2
   },
   {
    "_defaultOrder": 2,
    "_isFastLaunch": false,
    "category": "General purpose",
    "gpuNum": 0,
    "hideHardwareSpecs": false,
    "memoryGiB": 16,
    "name": "ml.t3.xlarge",
    "vcpuNum": 4
   },
   {
    "_defaultOrder": 3,
    "_isFastLaunch": false,
    "category": "General purpose",
    "gpuNum": 0,
    "hideHardwareSpecs": false,
    "memoryGiB": 32,
    "name": "ml.t3.2xlarge",
    "vcpuNum": 8
   },
   {
    "_defaultOrder": 4,
    "_isFastLaunch": true,
    "category": "General purpose",
    "gpuNum": 0,
    "hideHardwareSpecs": false,
    "memoryGiB": 8,
    "name": "ml.m5.large",
    "vcpuNum": 2
   },
   {
    "_defaultOrder": 5,
    "_isFastLaunch": false,
    "category": "General purpose",
    "gpuNum": 0,
    "hideHardwareSpecs": false,
    "memoryGiB": 16,
    "name": "ml.m5.xlarge",
    "vcpuNum": 4
   },
   {
    "_defaultOrder": 6,
    "_isFastLaunch": false,
    "category": "General purpose",
    "gpuNum": 0,
    "hideHardwareSpecs": false,
    "memoryGiB": 32,
    "name": "ml.m5.2xlarge",
    "vcpuNum": 8
   },
   {
    "_defaultOrder": 7,
    "_isFastLaunch": false,
    "category": "General purpose",
    "gpuNum": 0,
    "hideHardwareSpecs": false,
    "memoryGiB": 64,
    "name": "ml.m5.4xlarge",
    "vcpuNum": 16
   },
   {
    "_defaultOrder": 8,
    "_isFastLaunch": false,
    "category": "General purpose",
    "gpuNum": 0,
    "hideHardwareSpecs": false,
    "memoryGiB": 128,
    "name": "ml.m5.8xlarge",
    "vcpuNum": 32
   },
   {
    "_defaultOrder": 9,
    "_isFastLaunch": false,
    "category": "General purpose",
    "gpuNum": 0,
    "hideHardwareSpecs": false,
    "memoryGiB": 192,
    "name": "ml.m5.12xlarge",
    "vcpuNum": 48
   },
   {
    "_defaultOrder": 10,
    "_isFastLaunch": false,
    "category": "General purpose",
    "gpuNum": 0,
    "hideHardwareSpecs": false,
    "memoryGiB": 256,
    "name": "ml.m5.16xlarge",
    "vcpuNum": 64
   },
   {
    "_defaultOrder": 11,
    "_isFastLaunch": false,
    "category": "General purpose",
    "gpuNum": 0,
    "hideHardwareSpecs": false,
    "memoryGiB": 384,
    "name": "ml.m5.24xlarge",
    "vcpuNum": 96
   },
   {
    "_defaultOrder": 12,
    "_isFastLaunch": false,
    "category": "General purpose",
    "gpuNum": 0,
    "hideHardwareSpecs": false,
    "memoryGiB": 8,
    "name": "ml.m5d.large",
    "vcpuNum": 2
   },
   {
    "_defaultOrder": 13,
    "_isFastLaunch": false,
    "category": "General purpose",
    "gpuNum": 0,
    "hideHardwareSpecs": false,
    "memoryGiB": 16,
    "name": "ml.m5d.xlarge",
    "vcpuNum": 4
   },
   {
    "_defaultOrder": 14,
    "_isFastLaunch": false,
    "category": "General purpose",
    "gpuNum": 0,
    "hideHardwareSpecs": false,
    "memoryGiB": 32,
    "name": "ml.m5d.2xlarge",
    "vcpuNum": 8
   },
   {
    "_defaultOrder": 15,
    "_isFastLaunch": false,
    "category": "General purpose",
    "gpuNum": 0,
    "hideHardwareSpecs": false,
    "memoryGiB": 64,
    "name": "ml.m5d.4xlarge",
    "vcpuNum": 16
   },
   {
    "_defaultOrder": 16,
    "_isFastLaunch": false,
    "category": "General purpose",
    "gpuNum": 0,
    "hideHardwareSpecs": false,
    "memoryGiB": 128,
    "name": "ml.m5d.8xlarge",
    "vcpuNum": 32
   },
   {
    "_defaultOrder": 17,
    "_isFastLaunch": false,
    "category": "General purpose",
    "gpuNum": 0,
    "hideHardwareSpecs": false,
    "memoryGiB": 192,
    "name": "ml.m5d.12xlarge",
    "vcpuNum": 48
   },
   {
    "_defaultOrder": 18,
    "_isFastLaunch": false,
    "category": "General purpose",
    "gpuNum": 0,
    "hideHardwareSpecs": false,
    "memoryGiB": 256,
    "name": "ml.m5d.16xlarge",
    "vcpuNum": 64
   },
   {
    "_defaultOrder": 19,
    "_isFastLaunch": false,
    "category": "General purpose",
    "gpuNum": 0,
    "hideHardwareSpecs": false,
    "memoryGiB": 384,
    "name": "ml.m5d.24xlarge",
    "vcpuNum": 96
   },
   {
    "_defaultOrder": 20,
    "_isFastLaunch": false,
    "category": "General purpose",
    "gpuNum": 0,
    "hideHardwareSpecs": true,
    "memoryGiB": 0,
    "name": "ml.geospatial.interactive",
    "supportedImageNames": [
     "sagemaker-geospatial-v1-0"
    ],
    "vcpuNum": 0
   },
   {
    "_defaultOrder": 21,
    "_isFastLaunch": true,
    "category": "Compute optimized",
    "gpuNum": 0,
    "hideHardwareSpecs": false,
    "memoryGiB": 4,
    "name": "ml.c5.large",
    "vcpuNum": 2
   },
   {
    "_defaultOrder": 22,
    "_isFastLaunch": false,
    "category": "Compute optimized",
    "gpuNum": 0,
    "hideHardwareSpecs": false,
    "memoryGiB": 8,
    "name": "ml.c5.xlarge",
    "vcpuNum": 4
   },
   {
    "_defaultOrder": 23,
    "_isFastLaunch": false,
    "category": "Compute optimized",
    "gpuNum": 0,
    "hideHardwareSpecs": false,
    "memoryGiB": 16,
    "name": "ml.c5.2xlarge",
    "vcpuNum": 8
   },
   {
    "_defaultOrder": 24,
    "_isFastLaunch": false,
    "category": "Compute optimized",
    "gpuNum": 0,
    "hideHardwareSpecs": false,
    "memoryGiB": 32,
    "name": "ml.c5.4xlarge",
    "vcpuNum": 16
   },
   {
    "_defaultOrder": 25,
    "_isFastLaunch": false,
    "category": "Compute optimized",
    "gpuNum": 0,
    "hideHardwareSpecs": false,
    "memoryGiB": 72,
    "name": "ml.c5.9xlarge",
    "vcpuNum": 36
   },
   {
    "_defaultOrder": 26,
    "_isFastLaunch": false,
    "category": "Compute optimized",
    "gpuNum": 0,
    "hideHardwareSpecs": false,
    "memoryGiB": 96,
    "name": "ml.c5.12xlarge",
    "vcpuNum": 48
   },
   {
    "_defaultOrder": 27,
    "_isFastLaunch": false,
    "category": "Compute optimized",
    "gpuNum": 0,
    "hideHardwareSpecs": false,
    "memoryGiB": 144,
    "name": "ml.c5.18xlarge",
    "vcpuNum": 72
   },
   {
    "_defaultOrder": 28,
    "_isFastLaunch": false,
    "category": "Compute optimized",
    "gpuNum": 0,
    "hideHardwareSpecs": false,
    "memoryGiB": 192,
    "name": "ml.c5.24xlarge",
    "vcpuNum": 96
   },
   {
    "_defaultOrder": 29,
    "_isFastLaunch": true,
    "category": "Accelerated computing",
    "gpuNum": 1,
    "hideHardwareSpecs": false,
    "memoryGiB": 16,
    "name": "ml.g4dn.xlarge",
    "vcpuNum": 4
   },
   {
    "_defaultOrder": 30,
    "_isFastLaunch": false,
    "category": "Accelerated computing",
    "gpuNum": 1,
    "hideHardwareSpecs": false,
    "memoryGiB": 32,
    "name": "ml.g4dn.2xlarge",
    "vcpuNum": 8
   },
   {
    "_defaultOrder": 31,
    "_isFastLaunch": false,
    "category": "Accelerated computing",
    "gpuNum": 1,
    "hideHardwareSpecs": false,
    "memoryGiB": 64,
    "name": "ml.g4dn.4xlarge",
    "vcpuNum": 16
   },
   {
    "_defaultOrder": 32,
    "_isFastLaunch": false,
    "category": "Accelerated computing",
    "gpuNum": 1,
    "hideHardwareSpecs": false,
    "memoryGiB": 128,
    "name": "ml.g4dn.8xlarge",
    "vcpuNum": 32
   },
   {
    "_defaultOrder": 33,
    "_isFastLaunch": false,
    "category": "Accelerated computing",
    "gpuNum": 4,
    "hideHardwareSpecs": false,
    "memoryGiB": 192,
    "name": "ml.g4dn.12xlarge",
    "vcpuNum": 48
   },
   {
    "_defaultOrder": 34,
    "_isFastLaunch": false,
    "category": "Accelerated computing",
    "gpuNum": 1,
    "hideHardwareSpecs": false,
    "memoryGiB": 256,
    "name": "ml.g4dn.16xlarge",
    "vcpuNum": 64
   },
   {
    "_defaultOrder": 35,
    "_isFastLaunch": false,
    "category": "Accelerated computing",
    "gpuNum": 1,
    "hideHardwareSpecs": false,
    "memoryGiB": 61,
    "name": "ml.p3.2xlarge",
    "vcpuNum": 8
   },
   {
    "_defaultOrder": 36,
    "_isFastLaunch": false,
    "category": "Accelerated computing",
    "gpuNum": 4,
    "hideHardwareSpecs": false,
    "memoryGiB": 244,
    "name": "ml.p3.8xlarge",
    "vcpuNum": 32
   },
   {
    "_defaultOrder": 37,
    "_isFastLaunch": false,
    "category": "Accelerated computing",
    "gpuNum": 8,
    "hideHardwareSpecs": false,
    "memoryGiB": 488,
    "name": "ml.p3.16xlarge",
    "vcpuNum": 64
   },
   {
    "_defaultOrder": 38,
    "_isFastLaunch": false,
    "category": "Accelerated computing",
    "gpuNum": 8,
    "hideHardwareSpecs": false,
    "memoryGiB": 768,
    "name": "ml.p3dn.24xlarge",
    "vcpuNum": 96
   },
   {
    "_defaultOrder": 39,
    "_isFastLaunch": false,
    "category": "Memory Optimized",
    "gpuNum": 0,
    "hideHardwareSpecs": false,
    "memoryGiB": 16,
    "name": "ml.r5.large",
    "vcpuNum": 2
   },
   {
    "_defaultOrder": 40,
    "_isFastLaunch": false,
    "category": "Memory Optimized",
    "gpuNum": 0,
    "hideHardwareSpecs": false,
    "memoryGiB": 32,
    "name": "ml.r5.xlarge",
    "vcpuNum": 4
   },
   {
    "_defaultOrder": 41,
    "_isFastLaunch": false,
    "category": "Memory Optimized",
    "gpuNum": 0,
    "hideHardwareSpecs": false,
    "memoryGiB": 64,
    "name": "ml.r5.2xlarge",
    "vcpuNum": 8
   },
   {
    "_defaultOrder": 42,
    "_isFastLaunch": false,
    "category": "Memory Optimized",
    "gpuNum": 0,
    "hideHardwareSpecs": false,
    "memoryGiB": 128,
    "name": "ml.r5.4xlarge",
    "vcpuNum": 16
   },
   {
    "_defaultOrder": 43,
    "_isFastLaunch": false,
    "category": "Memory Optimized",
    "gpuNum": 0,
    "hideHardwareSpecs": false,
    "memoryGiB": 256,
    "name": "ml.r5.8xlarge",
    "vcpuNum": 32
   },
   {
    "_defaultOrder": 44,
    "_isFastLaunch": false,
    "category": "Memory Optimized",
    "gpuNum": 0,
    "hideHardwareSpecs": false,
    "memoryGiB": 384,
    "name": "ml.r5.12xlarge",
    "vcpuNum": 48
   },
   {
    "_defaultOrder": 45,
    "_isFastLaunch": false,
    "category": "Memory Optimized",
    "gpuNum": 0,
    "hideHardwareSpecs": false,
    "memoryGiB": 512,
    "name": "ml.r5.16xlarge",
    "vcpuNum": 64
   },
   {
    "_defaultOrder": 46,
    "_isFastLaunch": false,
    "category": "Memory Optimized",
    "gpuNum": 0,
    "hideHardwareSpecs": false,
    "memoryGiB": 768,
    "name": "ml.r5.24xlarge",
    "vcpuNum": 96
   },
   {
    "_defaultOrder": 47,
    "_isFastLaunch": false,
    "category": "Accelerated computing",
    "gpuNum": 1,
    "hideHardwareSpecs": false,
    "memoryGiB": 16,
    "name": "ml.g5.xlarge",
    "vcpuNum": 4
   },
   {
    "_defaultOrder": 48,
    "_isFastLaunch": false,
    "category": "Accelerated computing",
    "gpuNum": 1,
    "hideHardwareSpecs": false,
    "memoryGiB": 32,
    "name": "ml.g5.2xlarge",
    "vcpuNum": 8
   },
   {
    "_defaultOrder": 49,
    "_isFastLaunch": false,
    "category": "Accelerated computing",
    "gpuNum": 1,
    "hideHardwareSpecs": false,
    "memoryGiB": 64,
    "name": "ml.g5.4xlarge",
    "vcpuNum": 16
   },
   {
    "_defaultOrder": 50,
    "_isFastLaunch": false,
    "category": "Accelerated computing",
    "gpuNum": 1,
    "hideHardwareSpecs": false,
    "memoryGiB": 128,
    "name": "ml.g5.8xlarge",
    "vcpuNum": 32
   },
   {
    "_defaultOrder": 51,
    "_isFastLaunch": false,
    "category": "Accelerated computing",
    "gpuNum": 1,
    "hideHardwareSpecs": false,
    "memoryGiB": 256,
    "name": "ml.g5.16xlarge",
    "vcpuNum": 64
   },
   {
    "_defaultOrder": 52,
    "_isFastLaunch": false,
    "category": "Accelerated computing",
    "gpuNum": 4,
    "hideHardwareSpecs": false,
    "memoryGiB": 192,
    "name": "ml.g5.12xlarge",
    "vcpuNum": 48
   },
   {
    "_defaultOrder": 53,
    "_isFastLaunch": false,
    "category": "Accelerated computing",
    "gpuNum": 4,
    "hideHardwareSpecs": false,
    "memoryGiB": 384,
    "name": "ml.g5.24xlarge",
    "vcpuNum": 96
   },
   {
    "_defaultOrder": 54,
    "_isFastLaunch": false,
    "category": "Accelerated computing",
    "gpuNum": 8,
    "hideHardwareSpecs": false,
    "memoryGiB": 768,
    "name": "ml.g5.48xlarge",
    "vcpuNum": 192
   },
   {
    "_defaultOrder": 55,
    "_isFastLaunch": false,
    "category": "Accelerated computing",
    "gpuNum": 8,
    "hideHardwareSpecs": false,
    "memoryGiB": 1152,
    "name": "ml.p4d.24xlarge",
    "vcpuNum": 96
   },
   {
    "_defaultOrder": 56,
    "_isFastLaunch": false,
    "category": "Accelerated computing",
    "gpuNum": 8,
    "hideHardwareSpecs": false,
    "memoryGiB": 1152,
    "name": "ml.p4de.24xlarge",
    "vcpuNum": 96
   },
   {
    "_defaultOrder": 57,
    "_isFastLaunch": false,
    "category": "Accelerated computing",
    "gpuNum": 0,
    "hideHardwareSpecs": false,
    "memoryGiB": 32,
    "name": "ml.trn1.2xlarge",
    "vcpuNum": 8
   },
   {
    "_defaultOrder": 58,
    "_isFastLaunch": false,
    "category": "Accelerated computing",
    "gpuNum": 0,
    "hideHardwareSpecs": false,
    "memoryGiB": 512,
    "name": "ml.trn1.32xlarge",
    "vcpuNum": 128
   },
   {
    "_defaultOrder": 59,
    "_isFastLaunch": false,
    "category": "Accelerated computing",
    "gpuNum": 0,
    "hideHardwareSpecs": false,
    "memoryGiB": 512,
    "name": "ml.trn1n.32xlarge",
    "vcpuNum": 128
   }
  ],
  "instance_type": "ml.t3.medium",
  "kernelspec": {
   "display_name": "Python 3 (ipykernel)",
   "language": "python",
   "name": "python3"
  },
  "language_info": {
   "codemirror_mode": {
    "name": "ipython",
    "version": 3
   },
   "file_extension": ".py",
   "mimetype": "text/x-python",
   "name": "python",
   "nbconvert_exporter": "python",
   "pygments_lexer": "ipython3",
   "version": "3.11.7"
  }
 },
 "nbformat": 4,
 "nbformat_minor": 5
}
