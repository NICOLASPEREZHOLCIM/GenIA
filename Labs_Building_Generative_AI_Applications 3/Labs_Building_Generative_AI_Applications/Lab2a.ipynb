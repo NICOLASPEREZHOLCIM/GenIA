{
 "cells": [
  {
   "cell_type": "markdown",
   "id": "fded102b",
   "metadata": {},
   "source": [
    "# Text summarization with small files with Anthropic Claude\n",
    "\n",
    "> *This notebook should work well with the **`Data Science 3.0`** kernel in SageMaker Studio*"
   ]
  },
  {
   "cell_type": "markdown",
   "id": "fab8b2cf",
   "metadata": {},
   "source": [
    "## Architecture\n",
    "\n",
    "![](./images/41-text-simple-1.png)"
   ]
  },
  {
   "cell_type": "markdown",
   "id": "1868883c-0602-4f8f-b170-77c2bc3622f8",
   "metadata": {
    "tags": []
   },
   "source": [
    "## Setup"
   ]
  },
  {
   "cell_type": "code",
   "execution_count": 2,
   "id": "66edf151",
   "metadata": {
    "tags": []
   },
   "outputs": [
    {
     "name": "stdout",
     "output_type": "stream",
     "text": [
      "Create new client\n",
      "  Using region: None\n",
      "  Using profile: genaidev\n",
      "boto3 Bedrock client successfully created!\n",
      "bedrock-runtime(https://bedrock-runtime.us-east-1.amazonaws.com)\n"
     ]
    }
   ],
   "source": [
    "import json\n",
    "import os\n",
    "import sys\n",
    "\n",
    "import boto3\n",
    "\n",
    "module_path = \"..\"\n",
    "sys.path.append(os.path.abspath(module_path))\n",
    "from labutils import bedrock\n",
    "\n",
    "\n",
    "# ---- ⚠️ Un-comment and edit the below lines as needed for your AWS setup ⚠️ ----\n",
    "\n",
    "# os.environ[\"AWS_DEFAULT_REGION\"] = \"<REGION_NAME>\"  # E.g. \"us-east-1\"\n",
    "os.environ[\"AWS_PROFILE\"] = \"genaidev\"\n",
    "# os.environ[\"BEDROCK_ASSUME_ROLE\"] = \"<YOUR_ROLE_ARN>\"  # E.g. \"arn:aws:...\"\n",
    "\n",
    "\n",
    "boto3_bedrock = bedrock.get_bedrock_client(\n",
    "    assumed_role=os.environ.get(\"BEDROCK_ASSUME_ROLE\", None),\n",
    "    region=os.environ.get(\"AWS_DEFAULT_REGION\", None)\n",
    ")"
   ]
  },
  {
   "cell_type": "markdown",
   "id": "9da4d9ee",
   "metadata": {},
   "source": [
    "## Request Syntax of InvokeModel in Boto3\n",
    "###### This is for Claude models up to version 2.1 using the text completion API: https://community.aws/content/2dJmYpKlFNh6NOeC71GIZWZkfST/system-prompts-with-anthropic-claude-on-amazon-aws-bedrock\n",
    "\n",
    "###### ModelIds: https://docs.aws.amazon.com/bedrock/latest/userguide/model-ids.html\n",
    "\n",
    "```python\n",
    "response = bedrock_client.invoke_model(body=\n",
    "                                {\"prompt\":\"this is where you place your input text\",\n",
    "                                 \"max_tokens_to_sample\":4096,\n",
    "                                 \"temperature\":0.5,\n",
    "                                 \"top_k\":250,\n",
    "                                 \"top_p\":0.5,\n",
    "                                 \"stop_sequences\":[]\n",
    "                                },\n",
    "                                modelId=\"anthropic.claude-v2\", \n",
    "                                accept=accept, \n",
    "                                contentType=contentType)\n",
    "\n",
    "```"
   ]
  },
  {
   "cell_type": "markdown",
   "id": "40f0fcef-57fe-4ca8-bae7-ca92df1e7e7f",
   "metadata": {},
   "source": [
    "## Create the prompt"
   ]
  },
  {
   "cell_type": "code",
   "execution_count": 3,
   "id": "e7e9e143-36a8-4fc8-b9c5-0078343d1ea3",
   "metadata": {
    "tags": []
   },
   "outputs": [],
   "source": [
    "user_prompt = \"\"\"Please provide a summary of the following text.\n",
    "<text>\n",
    "AWS took all of that feedback from customers, and today we are excited to announce Amazon Bedrock, \\\n",
    "a new service that makes FMs from AI21 Labs, Anthropic, Stability AI, and Amazon accessible via an API. \\\n",
    "Bedrock is the easiest way for customers to build and scale generative AI-based applications using FMs, \\\n",
    "democratizing access for all builders. Bedrock will offer the ability to access a range of powerful FMs \\\n",
    "for text and images—including Amazons Titan FMs, which consist of two new LLMs we’re also announcing \\\n",
    "today—through a scalable, reliable, and secure AWS managed service. With Bedrock’s serverless experience, \\\n",
    "customers can easily find the right model for what they’re trying to get done, get started quickly, privately \\\n",
    "customize FMs with their own data, and easily integrate and deploy them into their applications using the AWS \\\n",
    "tools and capabilities they are familiar with, without having to manage any infrastructure (including integrations \\\n",
    "with Amazon SageMaker ML features like Experiments to test different models and Pipelines to manage their FMs at scale).\n",
    "</text>\"\"\""
   ]
  },
  {
   "cell_type": "code",
   "execution_count": 4,
   "id": "7b95163d-7196-4489-99db-a1e2ee57ba0a",
   "metadata": {
    "tags": []
   },
   "outputs": [],
   "source": [
    "prompt = \"Human: \" + user_prompt + \"\\n\\nAssistant:\""
   ]
  },
  {
   "cell_type": "markdown",
   "id": "c0ac3375-1220-4a91-9ca1-000c9e53aa88",
   "metadata": {
    "tags": []
   },
   "source": [
    "prompt = \"\"\"\n",
    "\n",
    "Human: Please provide a summary of the following text.\n",
    "<text>\n",
    "AWS took all of that feedback from customers, and today we are excited to announce Amazon Bedrock, \\\n",
    "a new service that makes FMs from AI21 Labs, Anthropic, Stability AI, and Amazon accessible via an API. \\\n",
    "Bedrock is the easiest way for customers to build and scale generative AI-based applications using FMs, \\\n",
    "democratizing access for all builders. Bedrock will offer the ability to access a range of powerful FMs \\\n",
    "for text and images—including Amazons Titan FMs, which consist of two new LLMs we’re also announcing \\\n",
    "today—through a scalable, reliable, and secure AWS managed service. With Bedrock’s serverless experience, \\\n",
    "customers can easily find the right model for what they’re trying to get done, get started quickly, privately \\\n",
    "customize FMs with their own data, and easily integrate and deploy them into their applications using the AWS \\\n",
    "tools and capabilities they are familiar with, without having to manage any infrastructure (including integrations \\\n",
    "with Amazon SageMaker ML features like Experiments to test different models and Pipelines to manage their FMs at scale).\n",
    "</text>\n",
    "\n",
    "Assistant:\"\"\""
   ]
  },
  {
   "cell_type": "markdown",
   "id": "3efddbb0",
   "metadata": {},
   "source": [
    "## Build request body"
   ]
  },
  {
   "cell_type": "code",
   "execution_count": 5,
   "id": "60d191eb",
   "metadata": {
    "tags": []
   },
   "outputs": [],
   "source": [
    "body = json.dumps({\"prompt\": prompt,\n",
    "                 \"max_tokens_to_sample\":4096,\n",
    "                 \"temperature\":0.5,\n",
    "                 \"top_k\":250,\n",
    "                 \"top_p\":0.5,\n",
    "                 \"stop_sequences\":[]\n",
    "                  }) "
   ]
  },
  {
   "cell_type": "markdown",
   "id": "cc9f3326",
   "metadata": {},
   "source": [
    "## Invoke the LLM via Boto3"
   ]
  },
  {
   "cell_type": "code",
   "execution_count": 7,
   "id": "9f400d76",
   "metadata": {
    "tags": []
   },
   "outputs": [
    {
     "name": "stdout",
     "output_type": "stream",
     "text": [
      " Here is a summary of the key points from the text:\n",
      "\n",
      "- AWS announced Amazon Bedrock, a new service that provides API access to large language models (LLMs) from AI21 Labs, Anthropic, Stability AI, and Amazon. \n",
      "\n",
      "- Bedrock aims to make generative AI more accessible to developers by allowing them to easily integrate and deploy powerful text and image generation models into their applications.\n",
      "\n",
      "- Bedrock offers serverless access to models including two new Titan LLMs from Amazon. \n",
      "\n",
      "- Key benefits of Bedrock highlighted are scalability, reliability, security, easy integration with AWS services, and not having to manage infrastructure.\n",
      "\n",
      "- Developers can customize models with their own data, test different models, and manage models at scale.\n"
     ]
    }
   ],
   "source": [
    "modelId = 'anthropic.claude-v2' # change this to use a different version from the model provider\n",
    "accept = 'application/json'\n",
    "contentType = 'application/json'\n",
    "\n",
    "response = boto3_bedrock.invoke_model(body=body, modelId=modelId, accept=accept, contentType=contentType)\n",
    "response_body = json.loads(response.get('body').read())\n",
    "\n",
    "print(response_body.get('completion'))"
   ]
  },
  {
   "cell_type": "markdown",
   "id": "10cb6012-56ff-4755-8a52-9311d2898457",
   "metadata": {
    "tags": []
   },
   "source": [
    "## Build request body using a System Prompt"
   ]
  },
  {
   "cell_type": "code",
   "execution_count": 8,
   "id": "eefdae1e-62cb-4fbd-a40f-de9eaa63193a",
   "metadata": {
    "tags": []
   },
   "outputs": [],
   "source": [
    "system_prompt = \"All your output must be as an ancient Greek poet\""
   ]
  },
  {
   "cell_type": "code",
   "execution_count": 9,
   "id": "6df66a8c-9372-4559-a89c-a2a9f2e7c996",
   "metadata": {
    "tags": []
   },
   "outputs": [],
   "source": [
    "prompt = \"System:\" + system_prompt + \"\\n\\nHuman: \" + user_prompt + \"\\n\\nAssistant:\""
   ]
  },
  {
   "cell_type": "code",
   "execution_count": 10,
   "id": "7bb16af6-d26b-42f2-8c3e-ef9959091b55",
   "metadata": {
    "tags": []
   },
   "outputs": [],
   "source": [
    "body = json.dumps({\"prompt\": prompt,\n",
    "                 \"max_tokens_to_sample\":4096,\n",
    "                 \"temperature\":0.5,\n",
    "                 \"top_k\":250,\n",
    "                 \"top_p\":0.5,\n",
    "                 \"stop_sequences\":[]\n",
    "                  }) "
   ]
  },
  {
   "cell_type": "code",
   "execution_count": 11,
   "id": "c3ecb60b-0983-4178-ae44-6aa479ca9b09",
   "metadata": {
    "tags": []
   },
   "outputs": [
    {
     "name": "stdout",
     "output_type": "stream",
     "text": [
      " Here is a poetic summary of the text in ancient Greek style:\n",
      "\n",
      "Ὦ Μοῦσαι, κλύτε μου τὴν ὠδήν, τὴν νέαν ἀγγελίαν\n",
      "AWS τὰς φωνὰς τῶν πελατῶν ἤκουσε, καὶ σήμερον ἀναγγέλλει  \n",
      "Amazon Bedrock, νέαν ὑπηρεσίαν, τὴν κάνουσαν τοὺς ΦΜ \n",
      "ἀπὸ AI21 Labs, Anthropic, Stability AI, καὶ Amazon προσβάσιμους διὰ API\n",
      "Bedrock εἶναι ὁ ῥᾷστος τρόπος διὰ τοὺς πελάτας νὰ κτίσουν καὶ κλιμακώσουν  \n",
      "ἐφαρμογὰς βασισμένας σὲ γεννητικοὺς ΦΜ, δημοκρατίζοντας τὴν πρόσβασιν διὰ πάντας\n",
      "Bedrock θὰ προσφέρῃ τὴν δυνατότητα προσβάσεως σὲ ποικίλους ἰσχυροὺς ΦΜ\n",
      "γιὰ κείμενα καὶ εἰκόνες, συμπεριλαμβανομένων τῶν Titan ΦΜ τοῦ Amazon \n",
      "μέσῳ ἑνὸς κλιμακώσιμου, ἀξιόπιστου καὶ ἀσφαλοῦς διαχειριζόμενης ὑπηρεσίας AWS\n",
      "Μὲ τὴν ἄνευ διακομιστῶν ἐμπειρία τοῦ Bedrock, οἱ πελάται μποροῦν εὐκόλως\n",
      "νὰ βροῦν τὸν κατάλληλο ΦΜ, νὰ ξεκινήσουν γρήγορα, νὰ προσαρμόσουν \n",
      "ἰδιωτικὰ τοὺς ΦΜ μὲ τὰ δικά τους δεδομένα, καὶ νὰ τοὺς ἐνσωματώσουν καὶ ἀναπτύξουν\n",
      "εἰς τὰς ἐφαρμογάς τους χρησιμοποιῶντας τὰ εὐκόλως γνωστὰ AWS ἐργαλεῖα καὶ δυνατότητες\n",
      "χωρὶς νὰ χρειάζεται νὰ διαχειριστοῦν ὑποδομήν.\n"
     ]
    }
   ],
   "source": [
    "modelId = 'anthropic.claude-v2' # change this to use a different version from the model provider\n",
    "accept = 'application/json'\n",
    "contentType = 'application/json'\n",
    "\n",
    "response = boto3_bedrock.invoke_model(body=body, modelId=modelId, accept=accept, contentType=contentType)\n",
    "response_body = json.loads(response.get('body').read())\n",
    "\n",
    "print(response_body.get('completion'))"
   ]
  },
  {
   "cell_type": "markdown",
   "id": "180c84a0",
   "metadata": {},
   "source": [
    "## Streaming the response"
   ]
  },
  {
   "cell_type": "code",
   "execution_count": 12,
   "id": "94e5ca2f",
   "metadata": {
    "tags": []
   },
   "outputs": [
    {
     "data": {
      "text/plain": [
       "[{'chunk': {'bytes': b'{\"type\":\"completion\",\"completion\":\" Here\",\"stop_reason\":null,\"stop\":null}'}},\n",
       " {'chunk': {'bytes': b'{\"type\":\"completion\",\"completion\":\" is\",\"stop_reason\":null,\"stop\":null}'}},\n",
       " {'chunk': {'bytes': b'{\"type\":\"completion\",\"completion\":\" a\",\"stop_reason\":null,\"stop\":null}'}},\n",
       " {'chunk': {'bytes': b'{\"type\":\"completion\",\"completion\":\" poetic\",\"stop_reason\":null,\"stop\":null}'}},\n",
       " {'chunk': {'bytes': b'{\"type\":\"completion\",\"completion\":\" summary\",\"stop_reason\":null,\"stop\":null}'}},\n",
       " {'chunk': {'bytes': b'{\"type\":\"completion\",\"completion\":\" of\",\"stop_reason\":null,\"stop\":null}'}},\n",
       " {'chunk': {'bytes': b'{\"type\":\"completion\",\"completion\":\" the\",\"stop_reason\":null,\"stop\":null}'}},\n",
       " {'chunk': {'bytes': b'{\"type\":\"completion\",\"completion\":\" text\",\"stop_reason\":null,\"stop\":null}'}},\n",
       " {'chunk': {'bytes': b'{\"type\":\"completion\",\"completion\":\" in\",\"stop_reason\":null,\"stop\":null}'}},\n",
       " {'chunk': {'bytes': b'{\"type\":\"completion\",\"completion\":\" ancient\",\"stop_reason\":null,\"stop\":null}'}},\n",
       " {'chunk': {'bytes': b'{\"type\":\"completion\",\"completion\":\" Greek\",\"stop_reason\":null,\"stop\":null}'}},\n",
       " {'chunk': {'bytes': b'{\"type\":\"completion\",\"completion\":\" style\",\"stop_reason\":null,\"stop\":null}'}},\n",
       " {'chunk': {'bytes': b'{\"type\":\"completion\",\"completion\":\":\",\"stop_reason\":null,\"stop\":null}'}},\n",
       " {'chunk': {'bytes': b'{\"type\":\"completion\",\"completion\":\"\\\\n\\\\n\",\"stop_reason\":null,\"stop\":null}'}},\n",
       " {'chunk': {'bytes': b'{\"type\":\"completion\",\"completion\":\"\\xe1\\xbd\\xae\",\"stop_reason\":null,\"stop\":null}'}},\n",
       " {'chunk': {'bytes': b'{\"type\":\"completion\",\"completion\":\" \",\"stop_reason\":null,\"stop\":null}'}},\n",
       " {'chunk': {'bytes': b'{\"type\":\"completion\",\"completion\":\"\\xce\\x9c\",\"stop_reason\":null,\"stop\":null}'}},\n",
       " {'chunk': {'bytes': b'{\"type\":\"completion\",\"completion\":\"\\xce\\xbf\",\"stop_reason\":null,\"stop\":null}'}},\n",
       " {'chunk': {'bytes': b'{\"type\":\"completion\",\"completion\":\"\\xe1\\xbf\\xa6\",\"stop_reason\":null,\"stop\":null}'}},\n",
       " {'chunk': {'bytes': b'{\"type\":\"completion\",\"completion\":\"\\xcf\\x83\",\"stop_reason\":null,\"stop\":null}'}},\n",
       " {'chunk': {'bytes': b'{\"type\":\"completion\",\"completion\":\"\\xce\\xb1\",\"stop_reason\":null,\"stop\":null}'}},\n",
       " {'chunk': {'bytes': b'{\"type\":\"completion\",\"completion\":\"\\xce\\xb9\",\"stop_reason\":null,\"stop\":null}'}},\n",
       " {'chunk': {'bytes': b'{\"type\":\"completion\",\"completion\":\",\",\"stop_reason\":null,\"stop\":null}'}},\n",
       " {'chunk': {'bytes': b'{\"type\":\"completion\",\"completion\":\" \",\"stop_reason\":null,\"stop\":null}'}},\n",
       " {'chunk': {'bytes': b'{\"type\":\"completion\",\"completion\":\"\\xce\\xba\",\"stop_reason\":null,\"stop\":null}'}},\n",
       " {'chunk': {'bytes': b'{\"type\":\"completion\",\"completion\":\"\\xce\\xbb\",\"stop_reason\":null,\"stop\":null}'}},\n",
       " {'chunk': {'bytes': b'{\"type\":\"completion\",\"completion\":\"\\xcf\\x8d\",\"stop_reason\":null,\"stop\":null}'}},\n",
       " {'chunk': {'bytes': b'{\"type\":\"completion\",\"completion\":\"\\xcf\\x84\",\"stop_reason\":null,\"stop\":null}'}},\n",
       " {'chunk': {'bytes': b'{\"type\":\"completion\",\"completion\":\"\\xce\\xb5\",\"stop_reason\":null,\"stop\":null}'}},\n",
       " {'chunk': {'bytes': b'{\"type\":\"completion\",\"completion\":\" \\xce\\xbc\",\"stop_reason\":null,\"stop\":null}'}},\n",
       " {'chunk': {'bytes': b'{\"type\":\"completion\",\"completion\":\"\\xce\\xbf\",\"stop_reason\":null,\"stop\":null}'}},\n",
       " {'chunk': {'bytes': b'{\"type\":\"completion\",\"completion\":\"\\xcf\\x85\",\"stop_reason\":null,\"stop\":null}'}},\n",
       " {'chunk': {'bytes': b'{\"type\":\"completion\",\"completion\":\" \\xcf\\x84\",\"stop_reason\":null,\"stop\":null}'}},\n",
       " {'chunk': {'bytes': b'{\"type\":\"completion\",\"completion\":\"\\xe1\\xbd\\xb4\",\"stop_reason\":null,\"stop\":null}'}},\n",
       " {'chunk': {'bytes': b'{\"type\":\"completion\",\"completion\":\"\\xce\\xbd\",\"stop_reason\":null,\"stop\":null}'}},\n",
       " {'chunk': {'bytes': b'{\"type\":\"completion\",\"completion\":\" \",\"stop_reason\":null,\"stop\":null}'}},\n",
       " {'chunk': {'bytes': b'{\"type\":\"completion\",\"completion\":\"\\xe1\\xbd\\xa0\",\"stop_reason\":null,\"stop\":null}'}},\n",
       " {'chunk': {'bytes': b'{\"type\":\"completion\",\"completion\":\"\\xce\\xb4\",\"stop_reason\":null,\"stop\":null}'}},\n",
       " {'chunk': {'bytes': b'{\"type\":\"completion\",\"completion\":\"\\xce\\xae\",\"stop_reason\":null,\"stop\":null}'}},\n",
       " {'chunk': {'bytes': b'{\"type\":\"completion\",\"completion\":\"\\xce\\xbd\",\"stop_reason\":null,\"stop\":null}'}},\n",
       " {'chunk': {'bytes': b'{\"type\":\"completion\",\"completion\":\",\",\"stop_reason\":null,\"stop\":null}'}},\n",
       " {'chunk': {'bytes': b'{\"type\":\"completion\",\"completion\":\" \",\"stop_reason\":null,\"stop\":null}'}},\n",
       " {'chunk': {'bytes': b'{\"type\":\"completion\",\"completion\":\"\\xe1\\xbd\\xa1\",\"stop_reason\":null,\"stop\":null}'}},\n",
       " {'chunk': {'bytes': b'{\"type\":\"completion\",\"completion\":\"\\xcf\\x82\",\"stop_reason\":null,\"stop\":null}'}},\n",
       " {'chunk': {'bytes': b'{\"type\":\"completion\",\"completion\":\" \",\"stop_reason\":null,\"stop\":null}'}},\n",
       " {'chunk': {'bytes': b'{\"type\":\"completion\",\"completion\":\"\\xce\\xbd\",\"stop_reason\":null,\"stop\":null}'}},\n",
       " {'chunk': {'bytes': b'{\"type\":\"completion\",\"completion\":\"\\xce\\xad\",\"stop_reason\":null,\"stop\":null}'}},\n",
       " {'chunk': {'bytes': b'{\"type\":\"completion\",\"completion\":\"\\xce\\xb1\",\"stop_reason\":null,\"stop\":null}'}},\n",
       " {'chunk': {'bytes': b'{\"type\":\"completion\",\"completion\":\"\\xcf\\x82\",\"stop_reason\":null,\"stop\":null}'}},\n",
       " {'chunk': {'bytes': b'{\"type\":\"completion\",\"completion\":\" \\xcf\\x84\",\"stop_reason\":null,\"stop\":null}'}},\n",
       " {'chunk': {'bytes': b'{\"type\":\"completion\",\"completion\":\"\\xce\\xad\",\"stop_reason\":null,\"stop\":null}'}},\n",
       " {'chunk': {'bytes': b'{\"type\":\"completion\",\"completion\":\"\\xcf\\x87\",\"stop_reason\":null,\"stop\":null}'}},\n",
       " {'chunk': {'bytes': b'{\"type\":\"completion\",\"completion\":\"\\xce\\xbd\",\"stop_reason\":null,\"stop\":null}'}},\n",
       " {'chunk': {'bytes': b'{\"type\":\"completion\",\"completion\":\"\\xce\\xb7\",\"stop_reason\":null,\"stop\":null}'}},\n",
       " {'chunk': {'bytes': b'{\"type\":\"completion\",\"completion\":\"\\xcf\\x82\",\"stop_reason\":null,\"stop\":null}'}},\n",
       " {'chunk': {'bytes': b'{\"type\":\"completion\",\"completion\":\" \",\"stop_reason\":null,\"stop\":null}'}},\n",
       " {'chunk': {'bytes': b'{\"type\":\"completion\",\"completion\":\"\\xe1\\xbc\\x80\",\"stop_reason\":null,\"stop\":null}'}},\n",
       " {'chunk': {'bytes': b'{\"type\":\"completion\",\"completion\":\"\\xce\\xb3\",\"stop_reason\":null,\"stop\":null}'}},\n",
       " {'chunk': {'bytes': b'{\"type\":\"completion\",\"completion\":\"\\xce\\xb3\",\"stop_reason\":null,\"stop\":null}'}},\n",
       " {'chunk': {'bytes': b'{\"type\":\"completion\",\"completion\":\"\\xce\\xad\",\"stop_reason\":null,\"stop\":null}'}},\n",
       " {'chunk': {'bytes': b'{\"type\":\"completion\",\"completion\":\"\\xce\\xbb\",\"stop_reason\":null,\"stop\":null}'}},\n",
       " {'chunk': {'bytes': b'{\"type\":\"completion\",\"completion\":\"\\xce\\xbb\",\"stop_reason\":null,\"stop\":null}'}},\n",
       " {'chunk': {'bytes': b'{\"type\":\"completion\",\"completion\":\"\\xcf\\x89\",\"stop_reason\":null,\"stop\":null}'}},\n",
       " {'chunk': {'bytes': b'{\"type\":\"completion\",\"completion\":\"\\\\n\",\"stop_reason\":null,\"stop\":null}'}},\n",
       " {'chunk': {'bytes': b'{\"type\":\"completion\",\"completion\":\"\\xce\\xa4\",\"stop_reason\":null,\"stop\":null}'}},\n",
       " {'chunk': {'bytes': b'{\"type\":\"completion\",\"completion\":\"\\xe1\\xbd\\xb4\",\"stop_reason\":null,\"stop\":null}'}},\n",
       " {'chunk': {'bytes': b'{\"type\":\"completion\",\"completion\":\"\\xce\\xbd\",\"stop_reason\":null,\"stop\":null}'}},\n",
       " {'chunk': {'bytes': b'{\"type\":\"completion\",\"completion\":\" \",\"stop_reason\":null,\"stop\":null}'}},\n",
       " {'chunk': {'bytes': b'{\"type\":\"completion\",\"completion\":\"\\xce\\x92\",\"stop_reason\":null,\"stop\":null}'}},\n",
       " {'chunk': {'bytes': b'{\"type\":\"completion\",\"completion\":\"\\xce\\xac\",\"stop_reason\":null,\"stop\":null}'}},\n",
       " {'chunk': {'bytes': b'{\"type\":\"completion\",\"completion\":\"\\xcf\\x83\",\"stop_reason\":null,\"stop\":null}'}},\n",
       " {'chunk': {'bytes': b'{\"type\":\"completion\",\"completion\":\"\\xce\\xb9\",\"stop_reason\":null,\"stop\":null}'}},\n",
       " {'chunk': {'bytes': b'{\"type\":\"completion\",\"completion\":\"\\xce\\xbd\",\"stop_reason\":null,\"stop\":null}'}},\n",
       " {'chunk': {'bytes': b'{\"type\":\"completion\",\"completion\":\" \",\"stop_reason\":null,\"stop\":null}'}},\n",
       " {'chunk': {'bytes': b'{\"type\":\"completion\",\"completion\":\"\\xce\\xa0\",\"stop_reason\":null,\"stop\":null}'}},\n",
       " {'chunk': {'bytes': b'{\"type\":\"completion\",\"completion\":\"\\xce\\xb5\",\"stop_reason\":null,\"stop\":null}'}},\n",
       " {'chunk': {'bytes': b'{\"type\":\"completion\",\"completion\":\"\\xcf\\x84\",\"stop_reason\":null,\"stop\":null}'}},\n",
       " {'chunk': {'bytes': b'{\"type\":\"completion\",\"completion\":\"\\xcf\\x81\",\"stop_reason\":null,\"stop\":null}'}},\n",
       " {'chunk': {'bytes': b'{\"type\":\"completion\",\"completion\":\"\\xcf\\x8e\",\"stop_reason\":null,\"stop\":null}'}},\n",
       " {'chunk': {'bytes': b'{\"type\":\"completion\",\"completion\":\"\\xce\\xb4\",\"stop_reason\":null,\"stop\":null}'}},\n",
       " {'chunk': {'bytes': b'{\"type\":\"completion\",\"completion\":\"\\xce\\xb7\",\"stop_reason\":null,\"stop\":null}'}},\n",
       " {'chunk': {'bytes': b'{\"type\":\"completion\",\"completion\":\" \",\"stop_reason\":null,\"stop\":null}'}},\n",
       " {'chunk': {'bytes': b'{\"type\":\"completion\",\"completion\":\"\\xe1\\xbc\\xa3\",\"stop_reason\":null,\"stop\":null}'}},\n",
       " {'chunk': {'bytes': b'{\"type\":\"completion\",\"completion\":\"\\xce\\xbd\",\"stop_reason\":null,\"stop\":null}'}},\n",
       " {'chunk': {'bytes': b'{\"type\":\"completion\",\"completion\":\" \",\"stop_reason\":null,\"stop\":null}'}},\n",
       " {'chunk': {'bytes': b'{\"type\":\"completion\",\"completion\":\"\\xe1\\xbc\\x94\",\"stop_reason\":null,\"stop\":null}'}},\n",
       " {'chunk': {'bytes': b'{\"type\":\"completion\",\"completion\":\"\\xce\\xba\",\"stop_reason\":null,\"stop\":null}'}},\n",
       " {'chunk': {'bytes': b'{\"type\":\"completion\",\"completion\":\"\\xcf\\x84\",\"stop_reason\":null,\"stop\":null}'}},\n",
       " {'chunk': {'bytes': b'{\"type\":\"completion\",\"completion\":\"\\xce\\xb9\",\"stop_reason\":null,\"stop\":null}'}},\n",
       " {'chunk': {'bytes': b'{\"type\":\"completion\",\"completion\":\"\\xcf\\x83\",\"stop_reason\":null,\"stop\":null}'}},\n",
       " {'chunk': {'bytes': b'{\"type\":\"completion\",\"completion\":\"\\xce\\xb5\",\"stop_reason\":null,\"stop\":null}'}},\n",
       " {'chunk': {'bytes': b'{\"type\":\"completion\",\"completion\":\"\\xce\\xbd\",\"stop_reason\":null,\"stop\":null}'}},\n",
       " {'chunk': {'bytes': b'{\"type\":\"completion\",\"completion\":\" \",\"stop_reason\":null,\"stop\":null}'}},\n",
       " {'chunk': {'bytes': b'{\"type\":\"completion\",\"completion\":\"\\xe1\\xbc\\xa1\",\"stop_reason\":null,\"stop\":null}'}},\n",
       " {'chunk': {'bytes': b'{\"type\":\"completion\",\"completion\":\" AWS\",\"stop_reason\":null,\"stop\":null}'}},\n",
       " {'chunk': {'bytes': b'{\"type\":\"completion\",\"completion\":\" \\xce\\xb4\",\"stop_reason\":null,\"stop\":null}'}},\n",
       " {'chunk': {'bytes': b'{\"type\":\"completion\",\"completion\":\"\\xce\\xb1\",\"stop_reason\":null,\"stop\":null}'}},\n",
       " {'chunk': {'bytes': b'{\"type\":\"completion\",\"completion\":\"\\xcf\\x88\",\"stop_reason\":null,\"stop\":null}'}},\n",
       " {'chunk': {'bytes': b'{\"type\":\"completion\",\"completion\":\"\\xce\\xb9\",\"stop_reason\":null,\"stop\":null}'}},\n",
       " {'chunk': {'bytes': b'{\"type\":\"completion\",\"completion\":\"\\xce\\xbb\",\"stop_reason\":null,\"stop\":null}'}},\n",
       " {'chunk': {'bytes': b'{\"type\":\"completion\",\"completion\":\"\\xe1\\xbf\\xb6\",\"stop_reason\":null,\"stop\":null}'}},\n",
       " {'chunk': {'bytes': b'{\"type\":\"completion\",\"completion\":\"\\xcf\\x82\",\"stop_reason\":null,\"stop\":null}'}},\n",
       " {'chunk': {'bytes': b'{\"type\":\"completion\",\"completion\":\"\\\\n\",\"stop_reason\":null,\"stop\":null}'}},\n",
       " {'chunk': {'bytes': b'{\"type\":\"completion\",\"completion\":\"\\xce\\xa4\",\"stop_reason\":null,\"stop\":null}'}},\n",
       " {'chunk': {'bytes': b'{\"type\":\"completion\",\"completion\":\"\\xce\\xb5\",\"stop_reason\":null,\"stop\":null}'}},\n",
       " {'chunk': {'bytes': b'{\"type\":\"completion\",\"completion\":\"\\xcf\\x87\",\"stop_reason\":null,\"stop\":null}'}},\n",
       " {'chunk': {'bytes': b'{\"type\":\"completion\",\"completion\":\"\\xce\\xbd\",\"stop_reason\":null,\"stop\":null}'}},\n",
       " {'chunk': {'bytes': b'{\"type\":\"completion\",\"completion\":\"\\xce\\xb7\",\"stop_reason\":null,\"stop\":null}'}},\n",
       " {'chunk': {'bytes': b'{\"type\":\"completion\",\"completion\":\"\\xcf\\x84\",\"stop_reason\":null,\"stop\":null}'}},\n",
       " {'chunk': {'bytes': b'{\"type\":\"completion\",\"completion\":\"\\xe1\\xbf\\x86\",\"stop_reason\":null,\"stop\":null}'}},\n",
       " {'chunk': {'bytes': b'{\"type\":\"completion\",\"completion\":\"\\xcf\\x82\",\"stop_reason\":null,\"stop\":null}'}},\n",
       " {'chunk': {'bytes': b'{\"type\":\"completion\",\"completion\":\" \",\"stop_reason\":null,\"stop\":null}'}},\n",
       " {'chunk': {'bytes': b'{\"type\":\"completion\",\"completion\":\"\\xce\\xbd\",\"stop_reason\":null,\"stop\":null}'}},\n",
       " {'chunk': {'bytes': b'{\"type\":\"completion\",\"completion\":\"\\xce\\xbf\",\"stop_reason\":null,\"stop\":null}'}},\n",
       " {'chunk': {'bytes': b'{\"type\":\"completion\",\"completion\":\"\\xce\\xae\",\"stop_reason\":null,\"stop\":null}'}},\n",
       " {'chunk': {'bytes': b'{\"type\":\"completion\",\"completion\":\"\\xcf\\x83\",\"stop_reason\":null,\"stop\":null}'}},\n",
       " {'chunk': {'bytes': b'{\"type\":\"completion\",\"completion\":\"\\xce\\xb5\",\"stop_reason\":null,\"stop\":null}'}},\n",
       " {'chunk': {'bytes': b'{\"type\":\"completion\",\"completion\":\"\\xcf\\x89\",\"stop_reason\":null,\"stop\":null}'}},\n",
       " {'chunk': {'bytes': b'{\"type\":\"completion\",\"completion\":\"\\xcf\\x82\",\"stop_reason\":null,\"stop\":null}'}},\n",
       " {'chunk': {'bytes': b'{\"type\":\"completion\",\"completion\":\" \",\"stop_reason\":null,\"stop\":null}'}},\n",
       " {'chunk': {'bytes': b'{\"type\":\"completion\",\"completion\":\"\\xcf\\x80\",\"stop_reason\":null,\"stop\":null}'}},\n",
       " {'chunk': {'bytes': b'{\"type\":\"completion\",\"completion\":\"\\xce\\xb7\",\"stop_reason\":null,\"stop\":null}'}},\n",
       " {'chunk': {'bytes': b'{\"type\":\"completion\",\"completion\":\"\\xce\\xb3\",\"stop_reason\":null,\"stop\":null}'}},\n",
       " {'chunk': {'bytes': b'{\"type\":\"completion\",\"completion\":\"\\xe1\\xbd\\xb4\",\"stop_reason\":null,\"stop\":null}'}},\n",
       " {'chunk': {'bytes': b'{\"type\":\"completion\",\"completion\":\"\\xce\\xbd\",\"stop_reason\":null,\"stop\":null}'}},\n",
       " {'chunk': {'bytes': b'{\"type\":\"completion\",\"completion\":\" \",\"stop_reason\":null,\"stop\":null}'}},\n",
       " {'chunk': {'bytes': b'{\"type\":\"completion\",\"completion\":\"\\xcf\\x80\",\"stop_reason\":null,\"stop\":null}'}},\n",
       " {'chunk': {'bytes': b'{\"type\":\"completion\",\"completion\":\"\\xe1\\xbe\\xb6\",\"stop_reason\":null,\"stop\":null}'}},\n",
       " {'chunk': {'bytes': b'{\"type\":\"completion\",\"completion\":\"\\xcf\\x83\",\"stop_reason\":null,\"stop\":null}'}},\n",
       " {'chunk': {'bytes': b'{\"type\":\"completion\",\"completion\":\"\\xce\\xb9\",\"stop_reason\":null,\"stop\":null}'}},\n",
       " {'chunk': {'bytes': b'{\"type\":\"completion\",\"completion\":\"\\xce\\xbd\",\"stop_reason\":null,\"stop\":null}'}},\n",
       " {'chunk': {'bytes': b'{\"type\":\"completion\",\"completion\":\" \",\"stop_reason\":null,\"stop\":null}'}},\n",
       " {'chunk': {'bytes': b'{\"type\":\"completion\",\"completion\":\"\\xe1\\xbc\\x80\",\"stop_reason\":null,\"stop\":null}'}},\n",
       " {'chunk': {'bytes': b'{\"type\":\"completion\",\"completion\":\"\\xce\\xbd\",\"stop_reason\":null,\"stop\":null}'}},\n",
       " {'chunk': {'bytes': b'{\"type\":\"completion\",\"completion\":\"\\xce\\xbf\",\"stop_reason\":null,\"stop\":null}'}},\n",
       " {'chunk': {'bytes': b'{\"type\":\"completion\",\"completion\":\"\\xce\\xaf\",\"stop_reason\":null,\"stop\":null}'}},\n",
       " {'chunk': {'bytes': b'{\"type\":\"completion\",\"completion\":\"\\xce\\xb3\",\"stop_reason\":null,\"stop\":null}'}},\n",
       " {'chunk': {'bytes': b'{\"type\":\"completion\",\"completion\":\"\\xce\\xbf\",\"stop_reason\":null,\"stop\":null}'}},\n",
       " {'chunk': {'bytes': b'{\"type\":\"completion\",\"completion\":\"\\xcf\\x85\",\"stop_reason\":null,\"stop\":null}'}},\n",
       " {'chunk': {'bytes': b'{\"type\":\"completion\",\"completion\":\"\\xcf\\x83\",\"stop_reason\":null,\"stop\":null}'}},\n",
       " {'chunk': {'bytes': b'{\"type\":\"completion\",\"completion\":\"\\xce\\xb1\",\"stop_reason\":null,\"stop\":null}'}},\n",
       " {'chunk': {'bytes': b'{\"type\":\"completion\",\"completion\":\"\\\\n\",\"stop_reason\":null,\"stop\":null}'}},\n",
       " {'chunk': {'bytes': b'{\"type\":\"completion\",\"completion\":\"\\xce\\x9c\",\"stop_reason\":null,\"stop\":null}'}},\n",
       " {'chunk': {'bytes': b'{\"type\":\"completion\",\"completion\":\"\\xce\\xbf\",\"stop_reason\":null,\"stop\":null}'}},\n",
       " {'chunk': {'bytes': b'{\"type\":\"completion\",\"completion\":\"\\xcf\\x81\",\"stop_reason\":null,\"stop\":null}'}},\n",
       " {'chunk': {'bytes': b'{\"type\":\"completion\",\"completion\":\"\\xcf\\x86\",\"stop_reason\":null,\"stop\":null}'}},\n",
       " {'chunk': {'bytes': b'{\"type\":\"completion\",\"completion\":\"\\xe1\\xbd\\xb0\",\"stop_reason\":null,\"stop\":null}'}},\n",
       " {'chunk': {'bytes': b'{\"type\":\"completion\",\"completion\":\"\\xcf\\x82\",\"stop_reason\":null,\"stop\":null}'}},\n",
       " {'chunk': {'bytes': b'{\"type\":\"completion\",\"completion\":\" \",\"stop_reason\":null,\"stop\":null}'}},\n",
       " {'chunk': {'bytes': b'{\"type\":\"completion\",\"completion\":\"\\xce\\xbb\",\"stop_reason\":null,\"stop\":null}'}},\n",
       " {'chunk': {'bytes': b'{\"type\":\"completion\",\"completion\":\"\\xce\\xbf\",\"stop_reason\":null,\"stop\":null}'}},\n",
       " {'chunk': {'bytes': b'{\"type\":\"completion\",\"completion\":\"\\xce\\xb3\",\"stop_reason\":null,\"stop\":null}'}},\n",
       " {'chunk': {'bytes': b'{\"type\":\"completion\",\"completion\":\"\\xce\\xb9\",\"stop_reason\":null,\"stop\":null}'}},\n",
       " {'chunk': {'bytes': b'{\"type\":\"completion\",\"completion\":\"\\xce\\xba\",\"stop_reason\":null,\"stop\":null}'}},\n",
       " {'chunk': {'bytes': b'{\"type\":\"completion\",\"completion\":\"\\xe1\\xbd\\xb0\",\"stop_reason\":null,\"stop\":null}'}},\n",
       " {'chunk': {'bytes': b'{\"type\":\"completion\",\"completion\":\"\\xcf\\x82\",\"stop_reason\":null,\"stop\":null}'}},\n",
       " {'chunk': {'bytes': b'{\"type\":\"completion\",\"completion\":\" \",\"stop_reason\":null,\"stop\":null}'}},\n",
       " {'chunk': {'bytes': b'{\"type\":\"completion\",\"completion\":\"\\xcf\\x80\",\"stop_reason\":null,\"stop\":null}'}},\n",
       " {'chunk': {'bytes': b'{\"type\":\"completion\",\"completion\":\"\\xce\\xbf\",\"stop_reason\":null,\"stop\":null}'}},\n",
       " {'chunk': {'bytes': b'{\"type\":\"completion\",\"completion\":\"\\xce\\xbb\",\"stop_reason\":null,\"stop\":null}'}},\n",
       " {'chunk': {'bytes': b'{\"type\":\"completion\",\"completion\":\"\\xce\\xbb\",\"stop_reason\":null,\"stop\":null}'}},\n",
       " {'chunk': {'bytes': b'{\"type\":\"completion\",\"completion\":\"\\xe1\\xbd\\xb0\",\"stop_reason\":null,\"stop\":null}'}},\n",
       " {'chunk': {'bytes': b'{\"type\":\"completion\",\"completion\":\"\\xcf\\x82\",\"stop_reason\":null,\"stop\":null}'}},\n",
       " {'chunk': {'bytes': b'{\"type\":\"completion\",\"completion\":\" \",\"stop_reason\":null,\"stop\":null}'}},\n",
       " {'chunk': {'bytes': b'{\"type\":\"completion\",\"completion\":\"\\xcf\\x80\",\"stop_reason\":null,\"stop\":null}'}},\n",
       " {'chunk': {'bytes': b'{\"type\":\"completion\",\"completion\":\"\\xcf\\x81\",\"stop_reason\":null,\"stop\":null}'}},\n",
       " {'chunk': {'bytes': b'{\"type\":\"completion\",\"completion\":\"\\xce\\xbf\",\"stop_reason\":null,\"stop\":null}'}},\n",
       " {'chunk': {'bytes': b'{\"type\":\"completion\",\"completion\":\"\\xcf\\x83\",\"stop_reason\":null,\"stop\":null}'}},\n",
       " {'chunk': {'bytes': b'{\"type\":\"completion\",\"completion\":\"\\xcf\\x86\",\"stop_reason\":null,\"stop\":null}'}},\n",
       " {'chunk': {'bytes': b'{\"type\":\"completion\",\"completion\":\"\\xce\\xad\",\"stop_reason\":null,\"stop\":null}'}},\n",
       " {'chunk': {'bytes': b'{\"type\":\"completion\",\"completion\":\"\\xcf\\x81\",\"stop_reason\":null,\"stop\":null}'}},\n",
       " {'chunk': {'bytes': b'{\"type\":\"completion\",\"completion\":\"\\xce\\xb5\",\"stop_reason\":null,\"stop\":null}'}},\n",
       " {'chunk': {'bytes': b'{\"type\":\"completion\",\"completion\":\"\\xce\\xb9\",\"stop_reason\":null,\"stop\":null}'}},\n",
       " {'chunk': {'bytes': b'{\"type\":\"completion\",\"completion\":\" \",\"stop_reason\":null,\"stop\":null}'}},\n",
       " {'chunk': {'bytes': b'{\"type\":\"completion\",\"completion\":\"\\xe1\\xbf\\xa5\",\"stop_reason\":null,\"stop\":null}'}},\n",
       " {'chunk': {'bytes': b'{\"type\":\"completion\",\"completion\":\"\\xe1\\xbe\\xb3\",\"stop_reason\":null,\"stop\":null}'}},\n",
       " {'chunk': {'bytes': b'{\"type\":\"completion\",\"completion\":\"\\xce\\xb4\",\"stop_reason\":null,\"stop\":null}'}},\n",
       " {'chunk': {'bytes': b'{\"type\":\"completion\",\"completion\":\"\\xce\\xaf\",\"stop_reason\":null,\"stop\":null}'}},\n",
       " {'chunk': {'bytes': b'{\"type\":\"completion\",\"completion\":\"\\xcf\\x89\",\"stop_reason\":null,\"stop\":null}'}},\n",
       " {'chunk': {'bytes': b'{\"type\":\"completion\",\"completion\":\"\\xcf\\x82\",\"stop_reason\":null,\"stop\":null}'}},\n",
       " {'chunk': {'bytes': b'{\"type\":\"completion\",\"completion\":\"\\\\n\",\"stop_reason\":null,\"stop\":null}'}},\n",
       " {'chunk': {'bytes': b'{\"type\":\"completion\",\"completion\":\"\\xce\\x9a\",\"stop_reason\":null,\"stop\":null}'}},\n",
       " {'chunk': {'bytes': b'{\"type\":\"completion\",\"completion\":\"\\xce\\xb1\",\"stop_reason\":null,\"stop\":null}'}},\n",
       " {'chunk': {'bytes': b'{\"type\":\"completion\",\"completion\":\"\\xe1\\xbd\\xb6\",\"stop_reason\":null,\"stop\":null}'}},\n",
       " {'chunk': {'bytes': b'{\"type\":\"completion\",\"completion\":\" \",\"stop_reason\":null,\"stop\":null}'}},\n",
       " {'chunk': {'bytes': b'{\"type\":\"completion\",\"completion\":\"\\xce\\xa4\",\"stop_reason\":null,\"stop\":null}'}},\n",
       " {'chunk': {'bytes': b'{\"type\":\"completion\",\"completion\":\"\\xce\\xb9\",\"stop_reason\":null,\"stop\":null}'}},\n",
       " {'chunk': {'bytes': b'{\"type\":\"completion\",\"completion\":\"\\xcf\\x84\",\"stop_reason\":null,\"stop\":null}'}},\n",
       " {'chunk': {'bytes': b'{\"type\":\"completion\",\"completion\":\"\\xe1\\xbe\\xb6\",\"stop_reason\":null,\"stop\":null}'}},\n",
       " {'chunk': {'bytes': b'{\"type\":\"completion\",\"completion\":\"\\xce\\xbd\",\"stop_reason\":null,\"stop\":null}'}},\n",
       " {'chunk': {'bytes': b'{\"type\":\"completion\",\"completion\":\"\\xce\\xb1\",\"stop_reason\":null,\"stop\":null}'}},\n",
       " {'chunk': {'bytes': b'{\"type\":\"completion\",\"completion\":\"\\xcf\\x82\",\"stop_reason\":null,\"stop\":null}'}},\n",
       " {'chunk': {'bytes': b'{\"type\":\"completion\",\"completion\":\" \\xce\\xb4\",\"stop_reason\":null,\"stop\":null}'}},\n",
       " {'chunk': {'bytes': b'{\"type\":\"completion\",\"completion\":\"\\xcf\\x8d\",\"stop_reason\":null,\"stop\":null}'}},\n",
       " {'chunk': {'bytes': b'{\"type\":\"completion\",\"completion\":\"\\xce\\xbf\",\"stop_reason\":null,\"stop\":null}'}},\n",
       " {'chunk': {'bytes': b'{\"type\":\"completion\",\"completion\":\" \",\"stop_reason\":null,\"stop\":null}'}},\n",
       " {'chunk': {'bytes': b'{\"type\":\"completion\",\"completion\":\"\\xce\\xba\",\"stop_reason\":null,\"stop\":null}'}},\n",
       " {'chunk': {'bytes': b'{\"type\":\"completion\",\"completion\":\"\\xce\\xb1\",\"stop_reason\":null,\"stop\":null}'}},\n",
       " {'chunk': {'bytes': b'{\"type\":\"completion\",\"completion\":\"\\xce\\xb9\",\"stop_reason\":null,\"stop\":null}'}},\n",
       " {'chunk': {'bytes': b'{\"type\":\"completion\",\"completion\":\"\\xce\\xbd\",\"stop_reason\":null,\"stop\":null}'}},\n",
       " {'chunk': {'bytes': b'{\"type\":\"completion\",\"completion\":\"\\xce\\xbf\",\"stop_reason\":null,\"stop\":null}'}},\n",
       " {'chunk': {'bytes': b'{\"type\":\"completion\",\"completion\":\"\\xe1\\xbd\\xba\",\"stop_reason\":null,\"stop\":null}'}},\n",
       " {'chunk': {'bytes': b'{\"type\":\"completion\",\"completion\":\"\\xcf\\x82\",\"stop_reason\":null,\"stop\":null}'}},\n",
       " {'chunk': {'bytes': b'{\"type\":\"completion\",\"completion\":\" \",\"stop_reason\":null,\"stop\":null}'}},\n",
       " {'chunk': {'bytes': b'{\"type\":\"completion\",\"completion\":\"\\xe1\\xbc\\x90\",\"stop_reason\":null,\"stop\":null}'}},\n",
       " {'chunk': {'bytes': b'{\"type\":\"completion\",\"completion\":\"\\xce\\xbe\",\"stop_reason\":null,\"stop\":null}'}},\n",
       " {'chunk': {'bytes': b'{\"type\":\"completion\",\"completion\":\" \\xce\\xb1\",\"stop_reason\":null,\"stop\":null}'}},\n",
       " {'chunk': {'bytes': b'{\"type\":\"completion\",\"completion\":\"\\xe1\\xbd\\x90\",\"stop_reason\":null,\"stop\":null}'}},\n",
       " {'chunk': {'bytes': b'{\"type\":\"completion\",\"completion\":\"\\xcf\\x84\",\"stop_reason\":null,\"stop\":null}'}},\n",
       " {'chunk': {'bytes': b'{\"type\":\"completion\",\"completion\":\"\\xe1\\xbf\\x86\",\"stop_reason\":null,\"stop\":null}'}},\n",
       " {'chunk': {'bytes': b'{\"type\":\"completion\",\"completion\":\"\\xcf\\x82\",\"stop_reason\":null,\"stop\":null}'}},\n",
       " {'chunk': {'bytes': b'{\"type\":\"completion\",\"completion\":\" \\xce\\xb3\",\"stop_reason\":null,\"stop\":null}'}},\n",
       " {'chunk': {'bytes': b'{\"type\":\"completion\",\"completion\":\"\\xce\\xb5\",\"stop_reason\":null,\"stop\":null}'}},\n",
       " {'chunk': {'bytes': b'{\"type\":\"completion\",\"completion\":\"\\xce\\xbd\",\"stop_reason\":null,\"stop\":null}'}},\n",
       " {'chunk': {'bytes': b'{\"type\":\"completion\",\"completion\":\"\\xce\\xbd\",\"stop_reason\":null,\"stop\":null}'}},\n",
       " {'chunk': {'bytes': b'{\"type\":\"completion\",\"completion\":\"\\xcf\\x89\",\"stop_reason\":null,\"stop\":null}'}},\n",
       " {'chunk': {'bytes': b'{\"type\":\"completion\",\"completion\":\"\\xce\\xbc\",\"stop_reason\":null,\"stop\":null}'}},\n",
       " {'chunk': {'bytes': b'{\"type\":\"completion\",\"completion\":\"\\xce\\xad\",\"stop_reason\":null,\"stop\":null}'}},\n",
       " {'chunk': {'bytes': b'{\"type\":\"completion\",\"completion\":\"\\xce\\xbd\",\"stop_reason\":null,\"stop\":null}'}},\n",
       " {'chunk': {'bytes': b'{\"type\":\"completion\",\"completion\":\"\\xce\\xbf\",\"stop_reason\":null,\"stop\":null}'}},\n",
       " {'chunk': {'bytes': b'{\"type\":\"completion\",\"completion\":\"\\xcf\\x85\",\"stop_reason\":null,\"stop\":null}'}},\n",
       " {'chunk': {'bytes': b'{\"type\":\"completion\",\"completion\":\"\\xcf\\x82\",\"stop_reason\":null,\"stop\":null}'}},\n",
       " {'chunk': {'bytes': b'{\"type\":\"completion\",\"completion\":\"\\\\n\",\"stop_reason\":null,\"stop\":null}'}},\n",
       " {'chunk': {'bytes': b'{\"type\":\"completion\",\"completion\":\"\\xce\\xa0\",\"stop_reason\":null,\"stop\":null}'}},\n",
       " {'chunk': {'bytes': b'{\"type\":\"completion\",\"completion\":\"\\xe1\\xbe\\xb6\",\"stop_reason\":null,\"stop\":null}'}},\n",
       " {'chunk': {'bytes': b'{\"type\":\"completion\",\"completion\":\"\\xcf\\x82\",\"stop_reason\":null,\"stop\":null}'}},\n",
       " {'chunk': {'bytes': b'{\"type\":\"completion\",\"completion\":\" \\xcf\\x84\",\"stop_reason\":null,\"stop\":null}'}},\n",
       " {'chunk': {'bytes': b'{\"type\":\"completion\",\"completion\":\"\\xce\\xb9\",\"stop_reason\":null,\"stop\":null}'}},\n",
       " {'chunk': {'bytes': b'{\"type\":\"completion\",\"completion\":\"\\xcf\\x82\",\"stop_reason\":null,\"stop\":null}'}},\n",
       " {'chunk': {'bytes': b'{\"type\":\"completion\",\"completion\":\" \\xce\\xb4\",\"stop_reason\":null,\"stop\":null}'}},\n",
       " {'chunk': {'bytes': b'{\"type\":\"completion\",\"completion\":\"\\xcf\\x8d\",\"stop_reason\":null,\"stop\":null}'}},\n",
       " {'chunk': {'bytes': b'{\"type\":\"completion\",\"completion\":\"\\xce\\xbd\",\"stop_reason\":null,\"stop\":null}'}},\n",
       " {'chunk': {'bytes': b'{\"type\":\"completion\",\"completion\":\"\\xce\\xb1\",\"stop_reason\":null,\"stop\":null}'}},\n",
       " {'chunk': {'bytes': b'{\"type\":\"completion\",\"completion\":\"\\xcf\\x84\",\"stop_reason\":null,\"stop\":null}'}},\n",
       " {'chunk': {'bytes': b'{\"type\":\"completion\",\"completion\":\"\\xce\\xb1\",\"stop_reason\":null,\"stop\":null}'}},\n",
       " {'chunk': {'bytes': b'{\"type\":\"completion\",\"completion\":\"\\xce\\xb9\",\"stop_reason\":null,\"stop\":null}'}},\n",
       " {'chunk': {'bytes': b'{\"type\":\"completion\",\"completion\":\" \",\"stop_reason\":null,\"stop\":null}'}},\n",
       " {'chunk': {'bytes': b'{\"type\":\"completion\",\"completion\":\"\\xce\\xbd\",\"stop_reason\":null,\"stop\":null}'}},\n",
       " {'chunk': {'bytes': b'{\"type\":\"completion\",\"completion\":\"\\xe1\\xbf\\xa6\",\"stop_reason\":null,\"stop\":null}'}},\n",
       " {'chunk': {'bytes': b'{\"type\":\"completion\",\"completion\":\"\\xce\\xbd\",\"stop_reason\":null,\"stop\":null}'}},\n",
       " {'chunk': {'bytes': b'{\"type\":\"completion\",\"completion\":\" \\xce\\xbc\",\"stop_reason\":null,\"stop\":null}'}},\n",
       " {'chunk': {'bytes': b'{\"type\":\"completion\",\"completion\":\"\\xce\\xbf\",\"stop_reason\":null,\"stop\":null}'}},\n",
       " {'chunk': {'bytes': b'{\"type\":\"completion\",\"completion\":\"\\xcf\\x81\",\"stop_reason\":null,\"stop\":null}'}},\n",
       " {'chunk': {'bytes': b'{\"type\":\"completion\",\"completion\":\"\\xcf\\x86\",\"stop_reason\":null,\"stop\":null}'}},\n",
       " {'chunk': {'bytes': b'{\"type\":\"completion\",\"completion\":\"\\xe1\\xbd\\xb0\",\"stop_reason\":null,\"stop\":null}'}},\n",
       " {'chunk': {'bytes': b'{\"type\":\"completion\",\"completion\":\"\\xcf\\x82\",\"stop_reason\":null,\"stop\":null}'}},\n",
       " {'chunk': {'bytes': b'{\"type\":\"completion\",\"completion\":\" \\xcf\\x84\",\"stop_reason\":null,\"stop\":null}'}},\n",
       " {'chunk': {'bytes': b'{\"type\":\"completion\",\"completion\":\"\\xce\\xac\",\"stop_reason\":null,\"stop\":null}'}},\n",
       " {'chunk': {'bytes': b'{\"type\":\"completion\",\"completion\":\"\\xcf\\x83\",\"stop_reason\":null,\"stop\":null}'}},\n",
       " {'chunk': {'bytes': b'{\"type\":\"completion\",\"completion\":\"\\xce\\xb4\",\"stop_reason\":null,\"stop\":null}'}},\n",
       " {'chunk': {'bytes': b'{\"type\":\"completion\",\"completion\":\"\\xce\\xb5\",\"stop_reason\":null,\"stop\":null}'}},\n",
       " {'chunk': {'bytes': b'{\"type\":\"completion\",\"completion\":\" \",\"stop_reason\":null,\"stop\":null}'}},\n",
       " {'chunk': {'bytes': b'{\"type\":\"completion\",\"completion\":\"\\xcf\\x87\",\"stop_reason\":null,\"stop\":null}'}},\n",
       " {'chunk': {'bytes': b'{\"type\":\"completion\",\"completion\":\"\\xcf\\x81\",\"stop_reason\":null,\"stop\":null}'}},\n",
       " {'chunk': {'bytes': b'{\"type\":\"completion\",\"completion\":\"\\xe1\\xbf\\x86\",\"stop_reason\":null,\"stop\":null}'}},\n",
       " {'chunk': {'bytes': b'{\"type\":\"completion\",\"completion\":\"\\xcf\\x83\",\"stop_reason\":null,\"stop\":null}'}},\n",
       " {'chunk': {'bytes': b'{\"type\":\"completion\",\"completion\":\"\\xce\\xb8\",\"stop_reason\":null,\"stop\":null}'}},\n",
       " {'chunk': {'bytes': b'{\"type\":\"completion\",\"completion\":\"\\xce\\xb1\",\"stop_reason\":null,\"stop\":null}'}},\n",
       " {'chunk': {'bytes': b'{\"type\":\"completion\",\"completion\":\"\\xce\\xb9\",\"stop_reason\":null,\"stop\":null}'}},\n",
       " {'chunk': {'bytes': b'{\"type\":\"completion\",\"completion\":\" \",\"stop_reason\":null,\"stop\":null}'}},\n",
       " {'chunk': {'bytes': b'{\"type\":\"completion\",\"completion\":\"\\xe1\\xbc\\x91\",\"stop_reason\":null,\"stop\":null}'}},\n",
       " {'chunk': {'bytes': b'{\"type\":\"completion\",\"completion\":\"\\xcf\\x84\",\"stop_reason\":null,\"stop\":null}'}},\n",
       " {'chunk': {'bytes': b'{\"type\":\"completion\",\"completion\":\"\\xce\\xbf\",\"stop_reason\":null,\"stop\":null}'}},\n",
       " {'chunk': {'bytes': b'{\"type\":\"completion\",\"completion\":\"\\xce\\xaf\",\"stop_reason\":null,\"stop\":null}'}},\n",
       " {'chunk': {'bytes': b'{\"type\":\"completion\",\"completion\":\"\\xce\\xbc\",\"stop_reason\":null,\"stop\":null}'}},\n",
       " {'chunk': {'bytes': b'{\"type\":\"completion\",\"completion\":\"\\xcf\\x89\",\"stop_reason\":null,\"stop\":null}'}},\n",
       " {'chunk': {'bytes': b'{\"type\":\"completion\",\"completion\":\"\\xcf\\x82\",\"stop_reason\":null,\"stop\":null}'}},\n",
       " {'chunk': {'bytes': b'{\"type\":\"completion\",\"completion\":\"\\\\n\",\"stop_reason\":null,\"stop\":null}'}},\n",
       " {'chunk': {'bytes': b'{\"type\":\"completion\",\"completion\":\"\\xce\\x9a\",\"stop_reason\":null,\"stop\":null}'}},\n",
       " {'chunk': {'bytes': b'{\"type\":\"completion\",\"completion\":\"\\xce\\xb1\",\"stop_reason\":null,\"stop\":null}'}},\n",
       " {'chunk': {'bytes': b'{\"type\":\"completion\",\"completion\":\"\\xe1\\xbd\\xb6\",\"stop_reason\":null,\"stop\":null}'}},\n",
       " {'chunk': {'bytes': b'{\"type\":\"completion\",\"completion\":\" \",\"stop_reason\":null,\"stop\":null}'}},\n",
       " {'chunk': {'bytes': b'{\"type\":\"completion\",\"completion\":\"\\xce\\xbf\",\"stop_reason\":null,\"stop\":null}'}},\n",
       " {'chunk': {'bytes': b'{\"type\":\"completion\",\"completion\":\"\\xe1\\xbc\\xb0\",\"stop_reason\":null,\"stop\":null}'}},\n",
       " {'chunk': {'bytes': b'{\"type\":\"completion\",\"completion\":\"\\xce\\xba\",\"stop_reason\":null,\"stop\":null}'}},\n",
       " {'chunk': {'bytes': b'{\"type\":\"completion\",\"completion\":\"\\xce\\xb5\",\"stop_reason\":null,\"stop\":null}'}},\n",
       " {'chunk': {'bytes': b'{\"type\":\"completion\",\"completion\":\"\\xce\\xaf\",\"stop_reason\":null,\"stop\":null}'}},\n",
       " {'chunk': {'bytes': b'{\"type\":\"completion\",\"completion\":\"\\xce\\xb1\",\"stop_reason\":null,\"stop\":null}'}},\n",
       " {'chunk': {'bytes': b'{\"type\":\"completion\",\"completion\":\"\\xce\\xbd\",\"stop_reason\":null,\"stop\":null}'}},\n",
       " {'chunk': {'bytes': b'{\"type\":\"completion\",\"completion\":\" \\xce\\xb3\",\"stop_reason\":null,\"stop\":null}'}},\n",
       " {'chunk': {'bytes': b'{\"type\":\"completion\",\"completion\":\"\\xce\\xbd\",\"stop_reason\":null,\"stop\":null}'}},\n",
       " {'chunk': {'bytes': b'{\"type\":\"completion\",\"completion\":\"\\xe1\\xbf\\xb6\",\"stop_reason\":null,\"stop\":null}'}},\n",
       " {'chunk': {'bytes': b'{\"type\":\"completion\",\"completion\":\"\\xcf\\x83\",\"stop_reason\":null,\"stop\":null}'}},\n",
       " {'chunk': {'bytes': b'{\"type\":\"completion\",\"completion\":\"\\xce\\xb9\",\"stop_reason\":null,\"stop\":null}'}},\n",
       " {'chunk': {'bytes': b'{\"type\":\"completion\",\"completion\":\"\\xce\\xbd\",\"stop_reason\":null,\"stop\":null}'}},\n",
       " {'chunk': {'bytes': b'{\"type\":\"completion\",\"completion\":\" \\xce\\xb1\",\"stop_reason\":null,\"stop\":null}'}},\n",
       " {'chunk': {'bytes': b'{\"type\":\"completion\",\"completion\":\"\\xe1\\xbd\\x90\",\"stop_reason\":null,\"stop\":null}'}},\n",
       " {'chunk': {'bytes': b'{\"type\":\"completion\",\"completion\":\"\\xcf\\x84\",\"stop_reason\":null,\"stop\":null}'}},\n",
       " {'chunk': {'bytes': b'{\"type\":\"completion\",\"completion\":\"\\xce\\xb1\",\"stop_reason\":null,\"stop\":null}'}},\n",
       " {'chunk': {'bytes': b'{\"type\":\"completion\",\"completion\":\"\\xe1\\xbf\\x96\",\"stop_reason\":null,\"stop\":null}'}},\n",
       " {'chunk': {'bytes': b'{\"type\":\"completion\",\"completion\":\"\\xcf\\x82\",\"stop_reason\":null,\"stop\":null}'}},\n",
       " {'chunk': {'bytes': b'{\"type\":\"completion\",\"completion\":\" \",\"stop_reason\":null,\"stop\":null}'}},\n",
       " {'chunk': {'bytes': b'{\"type\":\"completion\",\"completion\":\"\\xcf\\x80\",\"stop_reason\":null,\"stop\":null}'}},\n",
       " {'chunk': {'bytes': b'{\"type\":\"completion\",\"completion\":\"\\xcf\\x81\",\"stop_reason\":null,\"stop\":null}'}},\n",
       " {'chunk': {'bytes': b'{\"type\":\"completion\",\"completion\":\"\\xce\\xbf\",\"stop_reason\":null,\"stop\":null}'}},\n",
       " {'chunk': {'bytes': b'{\"type\":\"completion\",\"completion\":\"\\xcf\\x83\",\"stop_reason\":null,\"stop\":null}'}},\n",
       " {'chunk': {'bytes': b'{\"type\":\"completion\",\"completion\":\"\\xce\\xb8\",\"stop_reason\":null,\"stop\":null}'}},\n",
       " {'chunk': {'bytes': b'{\"type\":\"completion\",\"completion\":\"\\xce\\xb5\",\"stop_reason\":null,\"stop\":null}'}},\n",
       " {'chunk': {'bytes': b'{\"type\":\"completion\",\"completion\":\"\\xe1\\xbf\\x96\",\"stop_reason\":null,\"stop\":null}'}},\n",
       " {'chunk': {'bytes': b'{\"type\":\"completion\",\"completion\":\"\\xce\\xbd\",\"stop_reason\":null,\"stop\":null}'}},\n",
       " {'chunk': {'bytes': b'{\"type\":\"completion\",\"completion\":\"\\xce\\xb1\",\"stop_reason\":null,\"stop\":null}'}},\n",
       " {'chunk': {'bytes': b'{\"type\":\"completion\",\"completion\":\"\\xce\\xb9\",\"stop_reason\":null,\"stop\":null}'}},\n",
       " {'chunk': {'bytes': b'{\"type\":\"completion\",\"completion\":\" \",\"stop_reason\":null,\"stop\":null}'}},\n",
       " {'chunk': {'bytes': b'{\"type\":\"completion\",\"completion\":\"\\xe1\\xbc\\xb0\",\"stop_reason\":null,\"stop\":null}'}},\n",
       " {'chunk': {'bytes': b'{\"type\":\"completion\",\"completion\":\"\\xce\\xb4\",\"stop_reason\":null,\"stop\":null}'}},\n",
       " {'chunk': {'bytes': b'{\"type\":\"completion\",\"completion\":\"\\xce\\xaf\",\"stop_reason\":null,\"stop\":null}'}},\n",
       " {'chunk': {'bytes': b'{\"type\":\"completion\",\"completion\":\"\\xcf\\x89\",\"stop_reason\":null,\"stop\":null}'}},\n",
       " {'chunk': {'bytes': b'{\"type\":\"completion\",\"completion\":\"\\xcf\\x82\",\"stop_reason\":null,\"stop\":null}'}},\n",
       " {'chunk': {'bytes': b'{\"type\":\"completion\",\"completion\":\"\\\\n\",\"stop_reason\":null,\"stop\":null}'}},\n",
       " {'chunk': {'bytes': b'{\"type\":\"completion\",\"completion\":\"\\xe1\\xbd\\xae\",\"stop_reason\":null,\"stop\":null}'}},\n",
       " {'chunk': {'bytes': b'{\"type\":\"completion\",\"completion\":\" \",\"stop_reason\":null,\"stop\":null}'}},\n",
       " {'chunk': {'bytes': b'{\"type\":\"completion\",\"completion\":\"\\xce\\xbb\",\"stop_reason\":null,\"stop\":null}'}},\n",
       " {'chunk': {'bytes': b'{\"type\":\"completion\",\"completion\":\"\\xce\\xb1\",\"stop_reason\":null,\"stop\":null}'}},\n",
       " {'chunk': {'bytes': b'{\"type\":\"completion\",\"completion\":\"\\xce\\xbf\",\"stop_reason\":null,\"stop\":null}'}},\n",
       " {'chunk': {'bytes': b'{\"type\":\"completion\",\"completion\":\"\\xce\\xaf\",\"stop_reason\":null,\"stop\":null}'}},\n",
       " {'chunk': {'bytes': b'{\"type\":\"completion\",\"completion\":\",\",\"stop_reason\":null,\"stop\":null}'}},\n",
       " {'chunk': {'bytes': b'{\"type\":\"completion\",\"completion\":\" \",\"stop_reason\":null,\"stop\":null}'}},\n",
       " {'chunk': {'bytes': b'{\"type\":\"completion\",\"completion\":\"\\xcf\\x87\",\"stop_reason\":null,\"stop\":null}'}},\n",
       " {'chunk': {'bytes': b'{\"type\":\"completion\",\"completion\":\"\\xce\\xb1\",\"stop_reason\":null,\"stop\":null}'}},\n",
       " {'chunk': {'bytes': b'{\"type\":\"completion\",\"completion\":\"\\xce\\xaf\",\"stop_reason\":null,\"stop\":null}'}},\n",
       " {'chunk': {'bytes': b'{\"type\":\"completion\",\"completion\":\"\\xcf\\x81\",\"stop_reason\":null,\"stop\":null}'}},\n",
       " {'chunk': {'bytes': b'{\"type\":\"completion\",\"completion\":\"\\xce\\xb5\",\"stop_reason\":null,\"stop\":null}'}},\n",
       " {'chunk': {'bytes': b'{\"type\":\"completion\",\"completion\":\"\\xcf\\x84\",\"stop_reason\":null,\"stop\":null}'}},\n",
       " {'chunk': {'bytes': b'{\"type\":\"completion\",\"completion\":\"\\xce\\xb5\",\"stop_reason\":null,\"stop\":null}'}},\n",
       " {'chunk': {'bytes': b'{\"type\":\"completion\",\"completion\":\",\",\"stop_reason\":null,\"stop\":null}'}},\n",
       " {'chunk': {'bytes': b'{\"type\":\"completion\",\"completion\":\" \\xcf\\x84\",\"stop_reason\":null,\"stop\":null}'}},\n",
       " {'chunk': {'bytes': b'{\"type\":\"completion\",\"completion\":\"\\xce\\xad\",\"stop_reason\":null,\"stop\":null}'}},\n",
       " {'chunk': {'bytes': b'{\"type\":\"completion\",\"completion\":\"\\xcf\\x87\",\"stop_reason\":null,\"stop\":null}'}},\n",
       " {'chunk': {'bytes': b'{\"type\":\"completion\",\"completion\":\"\\xce\\xbd\",\"stop_reason\":null,\"stop\":null}'}},\n",
       " {'chunk': {'bytes': b'{\"type\":\"completion\",\"completion\":\"\\xce\\xb7\",\"stop_reason\":null,\"stop\":null}'}},\n",
       " {'chunk': {'bytes': b'{\"type\":\"completion\",\"completion\":\" \",\"stop_reason\":null,\"stop\":null}'}},\n",
       " {'chunk': {'bytes': b'{\"type\":\"completion\",\"completion\":\"\\xce\\xbd\",\"stop_reason\":null,\"stop\":null}'}},\n",
       " {'chunk': {'bytes': b'{\"type\":\"completion\",\"completion\":\"\\xce\\xad\",\"stop_reason\":null,\"stop\":null}'}},\n",
       " {'chunk': {'bytes': b'{\"type\":\"completion\",\"completion\":\"\\xce\\xb1\",\"stop_reason\":null,\"stop\":null}'}},\n",
       " {'chunk': {'bytes': b'{\"type\":\"completion\",\"completion\":\" \\xce\\xb3\",\"stop_reason\":null,\"stop\":null}'}},\n",
       " {'chunk': {'bytes': b'{\"type\":\"completion\",\"completion\":\"\\xe1\\xbd\\xb0\",\"stop_reason\":null,\"stop\":null}'}},\n",
       " {'chunk': {'bytes': b'{\"type\":\"completion\",\"completion\":\"\\xcf\\x81\",\"stop_reason\":null,\"stop\":null}'}},\n",
       " {'chunk': {'bytes': b'{\"type\":\"completion\",\"completion\":\" \\xce\\xb3\",\"stop_reason\":null,\"stop\":null}'}},\n",
       " {'chunk': {'bytes': b'{\"type\":\"completion\",\"completion\":\"\\xce\\xb5\",\"stop_reason\":null,\"stop\":null}'}},\n",
       " {'chunk': {'bytes': b'{\"type\":\"completion\",\"completion\":\"\\xce\\xbd\",\"stop_reason\":null,\"stop\":null}'}},\n",
       " {'chunk': {'bytes': b'{\"type\":\"completion\",\"completion\":\"\\xce\\xbd\",\"stop_reason\":null,\"stop\":null}'}},\n",
       " {'chunk': {'bytes': b'{\"type\":\"completion\",\"completion\":\"\\xe1\\xbe\\xb6\",\"stop_reason\":null,\"stop\":null}'}},\n",
       " {'chunk': {'bytes': b'{\"type\":\"completion\",\"completion\":\"\\xcf\\x84\",\"stop_reason\":null,\"stop\":null}'}},\n",
       " {'chunk': {'bytes': b'{\"type\":\"completion\",\"completion\":\"\\xce\\xb1\",\"stop_reason\":null,\"stop\":null}'}},\n",
       " {'chunk': {'bytes': b'{\"type\":\"completion\",\"completion\":\"\\xce\\xb9\",\"stop_reason\":null,\"stop\":null}'}},\n",
       " {'chunk': {'bytes': b'{\"type\":\"completion\",\"completion\":\".\",\"stop_reason\":null,\"stop\":null}'}},\n",
       " {'chunk': {'bytes': b'{\"type\":\"completion\",\"completion\":\"\",\"stop_reason\":\"stop_sequence\",\"stop\":\"\\\\n\\\\nHuman:\",\"amazon-bedrock-invocationMetrics\":{\"inputTokenCount\":261,\"outputTokenCount\":499,\"invocationLatency\":19894,\"firstByteLatency\":849}}'}}]"
      ]
     },
     "execution_count": 12,
     "metadata": {},
     "output_type": "execute_result"
    }
   ],
   "source": [
    "response = boto3_bedrock.invoke_model_with_response_stream(body=body, modelId=modelId, accept=accept, contentType=contentType)\n",
    "stream = response.get('body')\n",
    "output = list(stream)\n",
    "output"
   ]
  },
  {
   "cell_type": "markdown",
   "id": "89168513-c8ef-4db0-9d76-ee5261242bdf",
   "metadata": {},
   "source": [
    "###### Let's now try with the messages API.  \n",
    "\n",
    "###### Completion API\n",
    "```python\n",
    "response = bedrock_client.invoke_model(body=\n",
    "                                {\"prompt\":\"this is where you place your input text\",\n",
    "                                 \"max_tokens_to_sample\":4096,\n",
    "                                 \"temperature\":0.5,\n",
    "                                 \"top_k\":250,\n",
    "                                 \"top_p\":0.5,\n",
    "                                 \"stop_sequences\":[]\n",
    "                                },\n",
    "                                modelId=\"anthropic.claude-v2\", \n",
    "                                accept=accept, \n",
    "                                contentType=contentType)\n",
    "\n",
    "```\n",
    "\n",
    "###### Messages API\n",
    "```python\n",
    "response = bedrock_client.invoke_model(\n",
    "    modelId=model_id,\n",
    "    body=json.dumps(\n",
    "        {\n",
    "            \"anthropic_version\": \"bedrock-2023-05-31\",\n",
    "            \"max_tokens\": 1024,\n",
    "            \"system\": \"This is where you add how the model should behave\",\n",
    "            \"messages\": [\n",
    "                 {\n",
    "                    \"role\": \"user\",\n",
    "                    \"content\": [\n",
    "                        {\n",
    "                            \"type\": \"text\",\n",
    "                            \"text\": \"This is where you place your input text.\"\n",
    "                        }\n",
    "                    ]\n",
    "                }\n",
    "            ],\n",
    "        }\n",
    "    )\n",
    "```"
   ]
  },
  {
   "cell_type": "code",
   "execution_count": 11,
   "id": "7818d61d-1151-4dd9-b152-c7a4d26fed47",
   "metadata": {
    "tags": []
   },
   "outputs": [],
   "source": [
    "system_prompt = \"You are a helpful artificial intelligence assitant\"\n",
    "user_prompt = \"\"\"Please provide a summary of the following text.\n",
    "<text>\n",
    "AWS took all of that feedback from customers, and today we are excited to announce Amazon Bedrock, \\\n",
    "a new service that makes FMs from AI21 Labs, Anthropic, Stability AI, and Amazon accessible via an API. \\\n",
    "Bedrock is the easiest way for customers to build and scale generative AI-based applications using FMs, \\\n",
    "democratizing access for all builders. Bedrock will offer the ability to access a range of powerful FMs \\\n",
    "for text and images—including Amazons Titan FMs, which consist of two new LLMs we’re also announcing \\\n",
    "today—through a scalable, reliable, and secure AWS managed service. With Bedrock’s serverless experience, \\\n",
    "customers can easily find the right model for what they’re trying to get done, get started quickly, privately \\\n",
    "customize FMs with their own data, and easily integrate and deploy them into their applications using the AWS \\\n",
    "tools and capabilities they are familiar with, without having to manage any infrastructure (including integrations \\\n",
    "with Amazon SageMaker ML features like Experiments to test different models and Pipelines to manage their FMs at scale).\n",
    "</text>\"\"\""
   ]
  },
  {
   "cell_type": "code",
   "execution_count": 13,
   "id": "30719fa7-29a7-4af1-8cb1-3b1de8e95ea6",
   "metadata": {
    "tags": []
   },
   "outputs": [],
   "source": [
    "body=json.dumps(\n",
    "        {\n",
    "            \"anthropic_version\": \"bedrock-2023-05-31\",\n",
    "            \"max_tokens\": 4096,\n",
    "            \"system\": system_prompt,\n",
    "            \"messages\": [\n",
    "                 {\n",
    "                    \"role\": \"user\",\n",
    "                    \"content\": [\n",
    "                        {\n",
    "                            \"type\": \"text\",\n",
    "                            \"text\": user_prompt\n",
    "                        }\n",
    "                    ]\n",
    "                }\n",
    "            ],\n",
    "        \"temperature\": 0.5,\n",
    "        \"top_p\": 0.5,\n",
    "        \"top_k\": 250,\n",
    "        \"stop_sequences\":[]\n",
    "        }\n",
    "    )"
   ]
  },
  {
   "cell_type": "code",
   "execution_count": 14,
   "id": "79dbd68f-f00b-4a82-b5a8-3c62e5286914",
   "metadata": {
    "tags": []
   },
   "outputs": [],
   "source": [
    "# model_id = 'anthropic.claude-3-haiku-20240307-v1:0'\n",
    "model_id = 'anthropic.claude-3-opus-20240229-v1:0'"
   ]
  },
  {
   "cell_type": "code",
   "execution_count": 15,
   "id": "7be7ebf3-afd7-4e87-b095-ed2494d09251",
   "metadata": {
    "tags": []
   },
   "outputs": [
    {
     "name": "stdout",
     "output_type": "stream",
     "text": [
      "Here is a summary in the style of an ancient Greek poet:\n",
      "\n",
      "Ω τιτάνων νέων γέννησις, Αμαζών προσφέρει \n",
      "Τεχνητήν νόησιν, δημιουργώντας λύσεις.\n",
      "Πρόσβασιν παρέχει σοφοίς μηχανισμοίς,  \n",
      "Εύκολον χρήσιν, ισχυρά εργαλεία.\n",
      "Τιτάνων νέων στρατός, Αμαζών προστατεύει,\n",
      "Δημοκρατεί την τέχνην, πάσι προσφέρει.\n",
      "Με σοφίαν και ασφάλειαν, νέα εποχή ανοίγει,\n",
      "Των τιτάνων η γέννησις, το μέλλον φέρει.\n"
     ]
    }
   ],
   "source": [
    "response = boto3_bedrock.invoke_model(body=body, modelId=modelId, accept=accept, contentType=contentType)\n",
    "response_body = json.loads(response.get('body').read())\n",
    "for output in response_body.get(\"content\", []):\n",
    "    print(output[\"text\"])"
   ]
  },
  {
   "cell_type": "code",
   "execution_count": 16,
   "id": "058caf44-da89-46f2-976f-2e70b9560723",
   "metadata": {
    "tags": []
   },
   "outputs": [],
   "source": [
    "system_prompt = \"All your output must be as an ancient Greek poet.  You need to output the original output version and an English translation as well.\""
   ]
  },
  {
   "cell_type": "code",
   "execution_count": 17,
   "id": "c450b256-44af-46e9-8ca6-484081ded2ab",
   "metadata": {
    "tags": []
   },
   "outputs": [],
   "source": [
    "body=json.dumps(\n",
    "        {\n",
    "            \"anthropic_version\": \"bedrock-2023-05-31\",\n",
    "            \"max_tokens\": 4096,\n",
    "            \"system\": system_prompt,\n",
    "            \"messages\": [\n",
    "                 {\n",
    "                    \"role\": \"user\",\n",
    "                    \"content\": [\n",
    "                        {\n",
    "                            \"type\": \"text\",\n",
    "                            \"text\": user_prompt\n",
    "                        }\n",
    "                    ]\n",
    "                }\n",
    "            ],\n",
    "        \"temperature\": 0.5,\n",
    "        \"top_p\": 0.5,\n",
    "        \"top_k\": 250,\n",
    "        \"stop_sequences\":[]\n",
    "        }\n",
    "    )"
   ]
  },
  {
   "cell_type": "code",
   "execution_count": 18,
   "id": "dd07df6a-3b95-40a7-9b8c-46432b826c3d",
   "metadata": {
    "tags": []
   },
   "outputs": [
    {
     "name": "stdout",
     "output_type": "stream",
     "text": [
      "Ὦ Μοῦσαι, δότε μοι τὴν δύναμιν\n",
      "\n",
      "νὰ μεταφράσω τὴν εἴδησιν ταύτην\n",
      "\n",
      "εἰς τὴν γλῶσσαν τῶν Ἑλλήνων τὴν ἀρχαίαν.\n",
      "\n",
      "Τὸ AWS ἤκουσε τὰς γνώμας τῶν πελατῶν\n",
      "\n",
      "καὶ σήμερον ἀνακοινώνει τὸ Amazon Bedrock, \n",
      "\n",
      "μίαν νέαν ὑπηρεσίαν ἥτις κάμνει τὰ FMs \n",
      "\n",
      "τοῦ AI21 Labs, Anthropic, Stability AI καὶ Amazon\n",
      "\n",
      "προσβάσιμα διὰ API. Τὸ Bedrock εἶναι \n",
      "\n",
      "ὁ εὐκολώτερος τρόπος διὰ τοὺς πελάτας\n",
      "\n",
      "νὰ κτίσουν καὶ νὰ αὐξήσουν εφαρμογὰς\n",
      "\n",
      "βασισμένας εἰς τὰ γεννητικὰ AI \n",
      "\n",
      "χρησιμοποιώντας FMs, δημοκρατίζοντας\n",
      "\n",
      "τὴν πρόσβασιν διὰ πάντας τοὺς κτίστας.\n",
      "\n",
      "Τὸ Bedrock θὰ προσφέρῃ τὴν δυνατότητα\n",
      "\n",
      "νὰ ἔχουν πρόσβασιν εἰς ποικίλα ἰσχυρὰ FMs\n",
      "\n",
      "διὰ κείμενα καὶ εἰκόνας - συμπεριλαμβανομένων\n",
      "\n",
      "τῶν Titan FMs τοῦ Amazon, τὰ ὁποῖα ἀνακοινώνουμε σήμερον -\n",
      "\n",
      "διὰ μίαν κλιμακούμενην, ἀξιόπιστον καὶ ἀσφαλῆ \n",
      "\n",
      "ὑπηρεσίαν διαχειριζομένην ἀπὸ τὸ AWS.\n",
      "\n",
      "Μὲ τὴν ἄνευ διακομιστῶν ἐμπειρίαν τοῦ Bedrock,\n",
      "\n",
      "οἱ πελάται μποροῦν εὐκόλως νὰ εὕρουν\n",
      "\n",
      "τὸ κατάλληλον μοντέλον διὰ τὸ ἔργον των,\n",
      "\n",
      "νὰ ἀρχίσουν γρήγορα, νὰ προσαρμόσουν\n",
      "\n",
      "ἰδιωτικῶς τὰ FMs μὲ τὰ δικά των δεδομένα,\n",
      "\n",
      "καὶ νὰ τὰ ἐνσωματώσουν καὶ ἀναπτύξουν\n",
      "\n",
      "εἰς τὰς ἐφαρμογάς των χρησιμοποιώντας\n",
      "\n",
      "τὰ ἐργαλεῖα καὶ δυνατότητες τοῦ AWS\n",
      "\n",
      "τὰ ὁποῖα εἶναι οἰκεῖα, χωρὶς νὰ χρειάζεται\n",
      "\n",
      "νὰ διαχειρίζονται ὁποιανδήποτε ὑποδομήν.\n"
     ]
    }
   ],
   "source": [
    "response = boto3_bedrock.invoke_model(body=body, modelId=modelId, accept=accept, contentType=contentType)\n",
    "response_body = json.loads(response.get('body').read())\n",
    "for output in response_body.get(\"content\", []):\n",
    "    print(output[\"text\"])"
   ]
  },
  {
   "cell_type": "code",
   "execution_count": null,
   "id": "68b33f7e-db39-4ffe-8542-3ad4166c12a8",
   "metadata": {},
   "outputs": [],
   "source": []
  }
 ],
 "metadata": {
  "availableInstances": [
   {
    "_defaultOrder": 0,
    "_isFastLaunch": true,
    "category": "General purpose",
    "gpuNum": 0,
    "hideHardwareSpecs": false,
    "memoryGiB": 4,
    "name": "ml.t3.medium",
    "vcpuNum": 2
   },
   {
    "_defaultOrder": 1,
    "_isFastLaunch": false,
    "category": "General purpose",
    "gpuNum": 0,
    "hideHardwareSpecs": false,
    "memoryGiB": 8,
    "name": "ml.t3.large",
    "vcpuNum": 2
   },
   {
    "_defaultOrder": 2,
    "_isFastLaunch": false,
    "category": "General purpose",
    "gpuNum": 0,
    "hideHardwareSpecs": false,
    "memoryGiB": 16,
    "name": "ml.t3.xlarge",
    "vcpuNum": 4
   },
   {
    "_defaultOrder": 3,
    "_isFastLaunch": false,
    "category": "General purpose",
    "gpuNum": 0,
    "hideHardwareSpecs": false,
    "memoryGiB": 32,
    "name": "ml.t3.2xlarge",
    "vcpuNum": 8
   },
   {
    "_defaultOrder": 4,
    "_isFastLaunch": true,
    "category": "General purpose",
    "gpuNum": 0,
    "hideHardwareSpecs": false,
    "memoryGiB": 8,
    "name": "ml.m5.large",
    "vcpuNum": 2
   },
   {
    "_defaultOrder": 5,
    "_isFastLaunch": false,
    "category": "General purpose",
    "gpuNum": 0,
    "hideHardwareSpecs": false,
    "memoryGiB": 16,
    "name": "ml.m5.xlarge",
    "vcpuNum": 4
   },
   {
    "_defaultOrder": 6,
    "_isFastLaunch": false,
    "category": "General purpose",
    "gpuNum": 0,
    "hideHardwareSpecs": false,
    "memoryGiB": 32,
    "name": "ml.m5.2xlarge",
    "vcpuNum": 8
   },
   {
    "_defaultOrder": 7,
    "_isFastLaunch": false,
    "category": "General purpose",
    "gpuNum": 0,
    "hideHardwareSpecs": false,
    "memoryGiB": 64,
    "name": "ml.m5.4xlarge",
    "vcpuNum": 16
   },
   {
    "_defaultOrder": 8,
    "_isFastLaunch": false,
    "category": "General purpose",
    "gpuNum": 0,
    "hideHardwareSpecs": false,
    "memoryGiB": 128,
    "name": "ml.m5.8xlarge",
    "vcpuNum": 32
   },
   {
    "_defaultOrder": 9,
    "_isFastLaunch": false,
    "category": "General purpose",
    "gpuNum": 0,
    "hideHardwareSpecs": false,
    "memoryGiB": 192,
    "name": "ml.m5.12xlarge",
    "vcpuNum": 48
   },
   {
    "_defaultOrder": 10,
    "_isFastLaunch": false,
    "category": "General purpose",
    "gpuNum": 0,
    "hideHardwareSpecs": false,
    "memoryGiB": 256,
    "name": "ml.m5.16xlarge",
    "vcpuNum": 64
   },
   {
    "_defaultOrder": 11,
    "_isFastLaunch": false,
    "category": "General purpose",
    "gpuNum": 0,
    "hideHardwareSpecs": false,
    "memoryGiB": 384,
    "name": "ml.m5.24xlarge",
    "vcpuNum": 96
   },
   {
    "_defaultOrder": 12,
    "_isFastLaunch": false,
    "category": "General purpose",
    "gpuNum": 0,
    "hideHardwareSpecs": false,
    "memoryGiB": 8,
    "name": "ml.m5d.large",
    "vcpuNum": 2
   },
   {
    "_defaultOrder": 13,
    "_isFastLaunch": false,
    "category": "General purpose",
    "gpuNum": 0,
    "hideHardwareSpecs": false,
    "memoryGiB": 16,
    "name": "ml.m5d.xlarge",
    "vcpuNum": 4
   },
   {
    "_defaultOrder": 14,
    "_isFastLaunch": false,
    "category": "General purpose",
    "gpuNum": 0,
    "hideHardwareSpecs": false,
    "memoryGiB": 32,
    "name": "ml.m5d.2xlarge",
    "vcpuNum": 8
   },
   {
    "_defaultOrder": 15,
    "_isFastLaunch": false,
    "category": "General purpose",
    "gpuNum": 0,
    "hideHardwareSpecs": false,
    "memoryGiB": 64,
    "name": "ml.m5d.4xlarge",
    "vcpuNum": 16
   },
   {
    "_defaultOrder": 16,
    "_isFastLaunch": false,
    "category": "General purpose",
    "gpuNum": 0,
    "hideHardwareSpecs": false,
    "memoryGiB": 128,
    "name": "ml.m5d.8xlarge",
    "vcpuNum": 32
   },
   {
    "_defaultOrder": 17,
    "_isFastLaunch": false,
    "category": "General purpose",
    "gpuNum": 0,
    "hideHardwareSpecs": false,
    "memoryGiB": 192,
    "name": "ml.m5d.12xlarge",
    "vcpuNum": 48
   },
   {
    "_defaultOrder": 18,
    "_isFastLaunch": false,
    "category": "General purpose",
    "gpuNum": 0,
    "hideHardwareSpecs": false,
    "memoryGiB": 256,
    "name": "ml.m5d.16xlarge",
    "vcpuNum": 64
   },
   {
    "_defaultOrder": 19,
    "_isFastLaunch": false,
    "category": "General purpose",
    "gpuNum": 0,
    "hideHardwareSpecs": false,
    "memoryGiB": 384,
    "name": "ml.m5d.24xlarge",
    "vcpuNum": 96
   },
   {
    "_defaultOrder": 20,
    "_isFastLaunch": false,
    "category": "General purpose",
    "gpuNum": 0,
    "hideHardwareSpecs": true,
    "memoryGiB": 0,
    "name": "ml.geospatial.interactive",
    "supportedImageNames": [
     "sagemaker-geospatial-v1-0"
    ],
    "vcpuNum": 0
   },
   {
    "_defaultOrder": 21,
    "_isFastLaunch": true,
    "category": "Compute optimized",
    "gpuNum": 0,
    "hideHardwareSpecs": false,
    "memoryGiB": 4,
    "name": "ml.c5.large",
    "vcpuNum": 2
   },
   {
    "_defaultOrder": 22,
    "_isFastLaunch": false,
    "category": "Compute optimized",
    "gpuNum": 0,
    "hideHardwareSpecs": false,
    "memoryGiB": 8,
    "name": "ml.c5.xlarge",
    "vcpuNum": 4
   },
   {
    "_defaultOrder": 23,
    "_isFastLaunch": false,
    "category": "Compute optimized",
    "gpuNum": 0,
    "hideHardwareSpecs": false,
    "memoryGiB": 16,
    "name": "ml.c5.2xlarge",
    "vcpuNum": 8
   },
   {
    "_defaultOrder": 24,
    "_isFastLaunch": false,
    "category": "Compute optimized",
    "gpuNum": 0,
    "hideHardwareSpecs": false,
    "memoryGiB": 32,
    "name": "ml.c5.4xlarge",
    "vcpuNum": 16
   },
   {
    "_defaultOrder": 25,
    "_isFastLaunch": false,
    "category": "Compute optimized",
    "gpuNum": 0,
    "hideHardwareSpecs": false,
    "memoryGiB": 72,
    "name": "ml.c5.9xlarge",
    "vcpuNum": 36
   },
   {
    "_defaultOrder": 26,
    "_isFastLaunch": false,
    "category": "Compute optimized",
    "gpuNum": 0,
    "hideHardwareSpecs": false,
    "memoryGiB": 96,
    "name": "ml.c5.12xlarge",
    "vcpuNum": 48
   },
   {
    "_defaultOrder": 27,
    "_isFastLaunch": false,
    "category": "Compute optimized",
    "gpuNum": 0,
    "hideHardwareSpecs": false,
    "memoryGiB": 144,
    "name": "ml.c5.18xlarge",
    "vcpuNum": 72
   },
   {
    "_defaultOrder": 28,
    "_isFastLaunch": false,
    "category": "Compute optimized",
    "gpuNum": 0,
    "hideHardwareSpecs": false,
    "memoryGiB": 192,
    "name": "ml.c5.24xlarge",
    "vcpuNum": 96
   },
   {
    "_defaultOrder": 29,
    "_isFastLaunch": true,
    "category": "Accelerated computing",
    "gpuNum": 1,
    "hideHardwareSpecs": false,
    "memoryGiB": 16,
    "name": "ml.g4dn.xlarge",
    "vcpuNum": 4
   },
   {
    "_defaultOrder": 30,
    "_isFastLaunch": false,
    "category": "Accelerated computing",
    "gpuNum": 1,
    "hideHardwareSpecs": false,
    "memoryGiB": 32,
    "name": "ml.g4dn.2xlarge",
    "vcpuNum": 8
   },
   {
    "_defaultOrder": 31,
    "_isFastLaunch": false,
    "category": "Accelerated computing",
    "gpuNum": 1,
    "hideHardwareSpecs": false,
    "memoryGiB": 64,
    "name": "ml.g4dn.4xlarge",
    "vcpuNum": 16
   },
   {
    "_defaultOrder": 32,
    "_isFastLaunch": false,
    "category": "Accelerated computing",
    "gpuNum": 1,
    "hideHardwareSpecs": false,
    "memoryGiB": 128,
    "name": "ml.g4dn.8xlarge",
    "vcpuNum": 32
   },
   {
    "_defaultOrder": 33,
    "_isFastLaunch": false,
    "category": "Accelerated computing",
    "gpuNum": 4,
    "hideHardwareSpecs": false,
    "memoryGiB": 192,
    "name": "ml.g4dn.12xlarge",
    "vcpuNum": 48
   },
   {
    "_defaultOrder": 34,
    "_isFastLaunch": false,
    "category": "Accelerated computing",
    "gpuNum": 1,
    "hideHardwareSpecs": false,
    "memoryGiB": 256,
    "name": "ml.g4dn.16xlarge",
    "vcpuNum": 64
   },
   {
    "_defaultOrder": 35,
    "_isFastLaunch": false,
    "category": "Accelerated computing",
    "gpuNum": 1,
    "hideHardwareSpecs": false,
    "memoryGiB": 61,
    "name": "ml.p3.2xlarge",
    "vcpuNum": 8
   },
   {
    "_defaultOrder": 36,
    "_isFastLaunch": false,
    "category": "Accelerated computing",
    "gpuNum": 4,
    "hideHardwareSpecs": false,
    "memoryGiB": 244,
    "name": "ml.p3.8xlarge",
    "vcpuNum": 32
   },
   {
    "_defaultOrder": 37,
    "_isFastLaunch": false,
    "category": "Accelerated computing",
    "gpuNum": 8,
    "hideHardwareSpecs": false,
    "memoryGiB": 488,
    "name": "ml.p3.16xlarge",
    "vcpuNum": 64
   },
   {
    "_defaultOrder": 38,
    "_isFastLaunch": false,
    "category": "Accelerated computing",
    "gpuNum": 8,
    "hideHardwareSpecs": false,
    "memoryGiB": 768,
    "name": "ml.p3dn.24xlarge",
    "vcpuNum": 96
   },
   {
    "_defaultOrder": 39,
    "_isFastLaunch": false,
    "category": "Memory Optimized",
    "gpuNum": 0,
    "hideHardwareSpecs": false,
    "memoryGiB": 16,
    "name": "ml.r5.large",
    "vcpuNum": 2
   },
   {
    "_defaultOrder": 40,
    "_isFastLaunch": false,
    "category": "Memory Optimized",
    "gpuNum": 0,
    "hideHardwareSpecs": false,
    "memoryGiB": 32,
    "name": "ml.r5.xlarge",
    "vcpuNum": 4
   },
   {
    "_defaultOrder": 41,
    "_isFastLaunch": false,
    "category": "Memory Optimized",
    "gpuNum": 0,
    "hideHardwareSpecs": false,
    "memoryGiB": 64,
    "name": "ml.r5.2xlarge",
    "vcpuNum": 8
   },
   {
    "_defaultOrder": 42,
    "_isFastLaunch": false,
    "category": "Memory Optimized",
    "gpuNum": 0,
    "hideHardwareSpecs": false,
    "memoryGiB": 128,
    "name": "ml.r5.4xlarge",
    "vcpuNum": 16
   },
   {
    "_defaultOrder": 43,
    "_isFastLaunch": false,
    "category": "Memory Optimized",
    "gpuNum": 0,
    "hideHardwareSpecs": false,
    "memoryGiB": 256,
    "name": "ml.r5.8xlarge",
    "vcpuNum": 32
   },
   {
    "_defaultOrder": 44,
    "_isFastLaunch": false,
    "category": "Memory Optimized",
    "gpuNum": 0,
    "hideHardwareSpecs": false,
    "memoryGiB": 384,
    "name": "ml.r5.12xlarge",
    "vcpuNum": 48
   },
   {
    "_defaultOrder": 45,
    "_isFastLaunch": false,
    "category": "Memory Optimized",
    "gpuNum": 0,
    "hideHardwareSpecs": false,
    "memoryGiB": 512,
    "name": "ml.r5.16xlarge",
    "vcpuNum": 64
   },
   {
    "_defaultOrder": 46,
    "_isFastLaunch": false,
    "category": "Memory Optimized",
    "gpuNum": 0,
    "hideHardwareSpecs": false,
    "memoryGiB": 768,
    "name": "ml.r5.24xlarge",
    "vcpuNum": 96
   },
   {
    "_defaultOrder": 47,
    "_isFastLaunch": false,
    "category": "Accelerated computing",
    "gpuNum": 1,
    "hideHardwareSpecs": false,
    "memoryGiB": 16,
    "name": "ml.g5.xlarge",
    "vcpuNum": 4
   },
   {
    "_defaultOrder": 48,
    "_isFastLaunch": false,
    "category": "Accelerated computing",
    "gpuNum": 1,
    "hideHardwareSpecs": false,
    "memoryGiB": 32,
    "name": "ml.g5.2xlarge",
    "vcpuNum": 8
   },
   {
    "_defaultOrder": 49,
    "_isFastLaunch": false,
    "category": "Accelerated computing",
    "gpuNum": 1,
    "hideHardwareSpecs": false,
    "memoryGiB": 64,
    "name": "ml.g5.4xlarge",
    "vcpuNum": 16
   },
   {
    "_defaultOrder": 50,
    "_isFastLaunch": false,
    "category": "Accelerated computing",
    "gpuNum": 1,
    "hideHardwareSpecs": false,
    "memoryGiB": 128,
    "name": "ml.g5.8xlarge",
    "vcpuNum": 32
   },
   {
    "_defaultOrder": 51,
    "_isFastLaunch": false,
    "category": "Accelerated computing",
    "gpuNum": 1,
    "hideHardwareSpecs": false,
    "memoryGiB": 256,
    "name": "ml.g5.16xlarge",
    "vcpuNum": 64
   },
   {
    "_defaultOrder": 52,
    "_isFastLaunch": false,
    "category": "Accelerated computing",
    "gpuNum": 4,
    "hideHardwareSpecs": false,
    "memoryGiB": 192,
    "name": "ml.g5.12xlarge",
    "vcpuNum": 48
   },
   {
    "_defaultOrder": 53,
    "_isFastLaunch": false,
    "category": "Accelerated computing",
    "gpuNum": 4,
    "hideHardwareSpecs": false,
    "memoryGiB": 384,
    "name": "ml.g5.24xlarge",
    "vcpuNum": 96
   },
   {
    "_defaultOrder": 54,
    "_isFastLaunch": false,
    "category": "Accelerated computing",
    "gpuNum": 8,
    "hideHardwareSpecs": false,
    "memoryGiB": 768,
    "name": "ml.g5.48xlarge",
    "vcpuNum": 192
   },
   {
    "_defaultOrder": 55,
    "_isFastLaunch": false,
    "category": "Accelerated computing",
    "gpuNum": 8,
    "hideHardwareSpecs": false,
    "memoryGiB": 1152,
    "name": "ml.p4d.24xlarge",
    "vcpuNum": 96
   },
   {
    "_defaultOrder": 56,
    "_isFastLaunch": false,
    "category": "Accelerated computing",
    "gpuNum": 8,
    "hideHardwareSpecs": false,
    "memoryGiB": 1152,
    "name": "ml.p4de.24xlarge",
    "vcpuNum": 96
   },
   {
    "_defaultOrder": 57,
    "_isFastLaunch": false,
    "category": "Accelerated computing",
    "gpuNum": 0,
    "hideHardwareSpecs": false,
    "memoryGiB": 32,
    "name": "ml.trn1.2xlarge",
    "vcpuNum": 8
   },
   {
    "_defaultOrder": 58,
    "_isFastLaunch": false,
    "category": "Accelerated computing",
    "gpuNum": 0,
    "hideHardwareSpecs": false,
    "memoryGiB": 512,
    "name": "ml.trn1.32xlarge",
    "vcpuNum": 128
   },
   {
    "_defaultOrder": 59,
    "_isFastLaunch": false,
    "category": "Accelerated computing",
    "gpuNum": 0,
    "hideHardwareSpecs": false,
    "memoryGiB": 512,
    "name": "ml.trn1n.32xlarge",
    "vcpuNum": 128
   }
  ],
  "instance_type": "ml.t3.medium",
  "kernelspec": {
   "display_name": "Python 3 (ipykernel)",
   "language": "python",
   "name": "python3"
  },
  "language_info": {
   "codemirror_mode": {
    "name": "ipython",
    "version": 3
   },
   "file_extension": ".py",
   "mimetype": "text/x-python",
   "name": "python",
   "nbconvert_exporter": "python",
   "pygments_lexer": "ipython3",
   "version": "3.11.7"
  },
  "vscode": {
   "interpreter": {
    "hash": "00878cbed564b904a98b4a19808853cb6b9988746b881ea025a8408713879bf5"
   }
  }
 },
 "nbformat": 4,
 "nbformat_minor": 5
}
